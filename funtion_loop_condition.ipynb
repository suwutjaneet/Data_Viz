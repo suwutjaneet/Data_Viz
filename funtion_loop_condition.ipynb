{
  "nbformat": 4,
  "nbformat_minor": 0,
  "metadata": {
    "colab": {
      "name": "funtion_loop_condition",
      "provenance": [],
      "authorship_tag": "ABX9TyPmVar1w87E5jkPKXd1o8iF",
      "include_colab_link": true
    },
    "kernelspec": {
      "name": "python3",
      "display_name": "Python 3"
    }
  },
  "cells": [
    {
      "cell_type": "markdown",
      "metadata": {
        "id": "view-in-github",
        "colab_type": "text"
      },
      "source": [
        "<a href=\"https://colab.research.google.com/github/suwutjaneet/Data_Viz/blob/main/funtion_loop_condition.ipynb\" target=\"_parent\"><img src=\"https://colab.research.google.com/assets/colab-badge.svg\" alt=\"Open In Colab\"/></a>"
      ]
    },
    {
      "cell_type": "code",
      "metadata": {
        "colab": {
          "base_uri": "https://localhost:8080/"
        },
        "id": "_gjhC31HVCC0",
        "outputId": "95d9fe12-4f9e-458d-adb8-4d6976f7174d"
      },
      "source": [
        "for i in 'Thanapong' :\r\n",
        "  print(f'{i} -> / ')"
      ],
      "execution_count": 1,
      "outputs": [
        {
          "output_type": "stream",
          "text": [
            "T -> / \n",
            "h -> / \n",
            "a -> / \n",
            "n -> / \n",
            "a -> / \n",
            "p -> / \n",
            "o -> / \n",
            "n -> / \n",
            "g -> / \n"
          ],
          "name": "stdout"
        }
      ]
    },
    {
      "cell_type": "code",
      "metadata": {
        "id": "6RkzW1zgWJ2J"
      },
      "source": [
        ""
      ],
      "execution_count": null,
      "outputs": []
    },
    {
      "cell_type": "code",
      "metadata": {
        "colab": {
          "base_uri": "https://localhost:8080/"
        },
        "id": "lIR4vphMWS_1",
        "outputId": "42ee32c8-6e48-402a-fb20-223f3f4f225c"
      },
      "source": [
        "for i in 'Thanapong' :\r\n",
        "  print(f'{i} -> / ' ,end = ',') #สั่งให้ print แบบไม่เว้นบรรทัด"
      ],
      "execution_count": 3,
      "outputs": [
        {
          "output_type": "stream",
          "text": [
            "T -> / ,h -> / ,a -> / ,n -> / ,a -> / ,p -> / ,o -> / ,n -> / ,g -> / ,"
          ],
          "name": "stdout"
        }
      ]
    },
    {
      "cell_type": "code",
      "metadata": {
        "id": "DaeupuWYXUBN"
      },
      "source": [
        ""
      ],
      "execution_count": null,
      "outputs": []
    },
    {
      "cell_type": "markdown",
      "metadata": {
        "id": "bNKsOOH7XnOE"
      },
      "source": [
        "# สร้าง list ตัวเลขแบบอัตโนมัติ range()*"
      ]
    },
    {
      "cell_type": "code",
      "metadata": {
        "colab": {
          "base_uri": "https://localhost:8080/"
        },
        "id": "-wpYr7_gXuvr",
        "outputId": "40997f89-6bd1-41ad-838c-de9b75226e47"
      },
      "source": [
        "range5_output = range(5)\r\n",
        "print(list(range5_output))"
      ],
      "execution_count": 6,
      "outputs": [
        {
          "output_type": "stream",
          "text": [
            "[0, 1, 2, 3, 4]\n"
          ],
          "name": "stdout"
        }
      ]
    },
    {
      "cell_type": "code",
      "metadata": {
        "colab": {
          "base_uri": "https://localhost:8080/"
        },
        "id": "fuuiE9KOYdtU",
        "outputId": "8b5f5174-11d5-40fc-8d4b-6a6344782710"
      },
      "source": [
        "for i in range(100):\r\n",
        "  print( 'งง' , end = '  ')"
      ],
      "execution_count": 7,
      "outputs": [
        {
          "output_type": "stream",
          "text": [
            "งง  งง  งง  งง  งง  งง  งง  งง  งง  งง  งง  งง  งง  งง  งง  งง  งง  งง  งง  งง  งง  งง  งง  งง  งง  งง  งง  งง  งง  งง  งง  งง  งง  งง  งง  งง  งง  งง  งง  งง  งง  งง  งง  งง  งง  งง  งง  งง  งง  งง  งง  งง  งง  งง  งง  งง  งง  งง  งง  งง  งง  งง  งง  งง  งง  งง  งง  งง  งง  งง  งง  งง  งง  งง  งง  งง  งง  งง  งง  งง  งง  งง  งง  งง  งง  งง  งง  งง  งง  งง  งง  งง  งง  งง  งง  งง  งง  งง  งง  งง  "
          ],
          "name": "stdout"
        }
      ]
    },
    {
      "cell_type": "code",
      "metadata": {
        "colab": {
          "base_uri": "https://localhost:8080/"
        },
        "id": "3LQaS4QXYr-g",
        "outputId": "13931361-a5a2-4058-c131-9326f8036a60"
      },
      "source": [
        "list(range(1,11)) #เริ่มต้นเป็นวงทึบ จบเป็นวงกลมโปร่งเหมือน list slicing"
      ],
      "execution_count": 9,
      "outputs": [
        {
          "output_type": "execute_result",
          "data": {
            "text/plain": [
              "[1, 2, 3, 4, 5, 6, 7, 8, 9, 10]"
            ]
          },
          "metadata": {
            "tags": []
          },
          "execution_count": 9
        }
      ]
    },
    {
      "cell_type": "markdown",
      "metadata": {
        "id": "BeWkL95wZdFw"
      },
      "source": [
        "# สร้าง list slicing"
      ]
    },
    {
      "cell_type": "code",
      "metadata": {
        "colab": {
          "base_uri": "https://localhost:8080/"
        },
        "id": "K-wXGdEIZrYo",
        "outputId": "13931361-a5a2-4058-c131-9326f8036a60"
      },
      "source": [
        " list(range(1,11)) "
      ],
      "execution_count": null,
      "outputs": [
        {
          "output_type": "execute_result",
          "data": {
            "text/plain": [
              "[1, 2, 3, 4, 5, 6, 7, 8, 9, 10]"
            ]
          },
          "metadata": {
            "tags": []
          },
          "execution_count": 9
        }
      ]
    },
    {
      "cell_type": "code",
      "metadata": {
        "colab": {
          "base_uri": "https://localhost:8080/"
        },
        "id": "YF094QqXdZvi",
        "outputId": "2a00334e-cb04-4c9f-b9ea-6d732d1ef0ca"
      },
      "source": [
        "list(range(-3,20,4)) #เริ่มต้นเป็นวงทึบ จบเป็นวงกลมโปร่งเหมือน list slicing"
      ],
      "execution_count": 10,
      "outputs": [
        {
          "output_type": "execute_result",
          "data": {
            "text/plain": [
              "[-3, 1, 5, 9, 13, 17]"
            ]
          },
          "metadata": {
            "tags": []
          },
          "execution_count": 10
        }
      ]
    },
    {
      "cell_type": "code",
      "metadata": {
        "colab": {
          "base_uri": "https://localhost:8080/",
          "height": 130
        },
        "id": "_VdKhpIGdggY",
        "outputId": "0433e94f-79a2-4e92-81cd-7e702d3b663b"
      },
      "source": [
        "for name1 in range(2,5): #ทำการวนลูปซ้ำกัน (2, 3, 4)\r\n",
        " print(f ' now name1 = {name1} ')\r\n",
        "  for name2 in range(1,13):\r\n",
        "    print(name1, ' X ' ,name2,' = ' ,name1*name2)\r\n",
        "    print( ' inner loop is end ')"
      ],
      "execution_count": 63,
      "outputs": [
        {
          "output_type": "error",
          "ename": "SyntaxError",
          "evalue": "ignored",
          "traceback": [
            "\u001b[0;36m  File \u001b[0;32m\"<ipython-input-63-b5edd1bcdbf1>\"\u001b[0;36m, line \u001b[0;32m2\u001b[0m\n\u001b[0;31m    print( f ' now name1 = {name1} ')\u001b[0m\n\u001b[0m                                   ^\u001b[0m\n\u001b[0;31mSyntaxError\u001b[0m\u001b[0;31m:\u001b[0m invalid syntax\n"
          ]
        }
      ]
    },
    {
      "cell_type": "markdown",
      "metadata": {
        "id": "pcolXzXGfL-3"
      },
      "source": [
        "# การวนลูปในฟังก์ชัน \r\n",
        "# loop in function"
      ]
    },
    {
      "cell_type": "code",
      "metadata": {
        "id": "8j-j6rNGfwFM"
      },
      "source": [
        "def print_feelings(I, friends, feeling = 'คิดถึง') :\r\n",
        "  for friend in friends :\r\n",
        "    print(f'{I} {feeling} {friend}')"
      ],
      "execution_count": 33,
      "outputs": []
    },
    {
      "cell_type": "code",
      "metadata": {
        "id": "sMNEsfNEgcVm"
      },
      "source": [
        "list_friends = ['น้อนอ้อน' , 'น้อนกี้' , 'น้อนแอร์' , 'น้อนแคท' , 'น้อนออย' , 'น้อนปริม']"
      ],
      "execution_count": 34,
      "outputs": []
    },
    {
      "cell_type": "code",
      "metadata": {
        "colab": {
          "base_uri": "https://localhost:8080/"
        },
        "id": "FiaEnV9Rgm5T",
        "outputId": "b75451c0-104e-4077-8c76-ec82274acc56"
      },
      "source": [
        "print_feelings( 'พิเฟิร์น' , list_friends)"
      ],
      "execution_count": 36,
      "outputs": [
        {
          "output_type": "stream",
          "text": [
            "พิเฟิร์น คิดถึง น้อนอ้อน\n",
            "พิเฟิร์น คิดถึง น้อนกี้\n",
            "พิเฟิร์น คิดถึง น้อนแอร์\n",
            "พิเฟิร์น คิดถึง น้อนแคท\n",
            "พิเฟิร์น คิดถึง น้อนออย\n",
            "พิเฟิร์น คิดถึง น้อนปริม\n"
          ],
          "name": "stdout"
        }
      ]
    },
    {
      "cell_type": "code",
      "metadata": {
        "colab": {
          "base_uri": "https://localhost:8080/"
        },
        "id": "w3kGkGurhGvH",
        "outputId": "0b5f502e-02ab-4bc8-bc2a-b6965b143020"
      },
      "source": [
        "print_feelings( 'พิเฟิร์น' , list_friends, feeling = 'รัก')"
      ],
      "execution_count": 38,
      "outputs": [
        {
          "output_type": "stream",
          "text": [
            "พิเฟิร์น รัก น้อนอ้อน\n",
            "พิเฟิร์น รัก น้อนกี้\n",
            "พิเฟิร์น รัก น้อนแอร์\n",
            "พิเฟิร์น รัก น้อนแคท\n",
            "พิเฟิร์น รัก น้อนออย\n",
            "พิเฟิร์น รัก น้อนปริม\n"
          ],
          "name": "stdout"
        }
      ]
    },
    {
      "cell_type": "markdown",
      "metadata": {
        "id": "P4khF2xAkj2x"
      },
      "source": [
        "# conditional คือ เงื่อนไข/ประโยคเงื่อนไข"
      ]
    },
    {
      "cell_type": "code",
      "metadata": {
        "colab": {
          "base_uri": "https://localhost:8080/"
        },
        "id": "Tl5L8ETdlD21",
        "outputId": "dd5160e4-8605-40b6-c795-afd6ca703a99"
      },
      "source": [
        "for name1 in list_friends : \r\n",
        "  for name2 in list_friends :\r\n",
        "    print(name1, 'รัก' , name2)"
      ],
      "execution_count": 41,
      "outputs": [
        {
          "output_type": "stream",
          "text": [
            "น้อนอ้อน รัก น้อนอ้อน\n",
            "น้อนอ้อน รัก น้อนกี้\n",
            "น้อนอ้อน รัก น้อนแอร์\n",
            "น้อนอ้อน รัก น้อนแคท\n",
            "น้อนอ้อน รัก น้อนออย\n",
            "น้อนอ้อน รัก น้อนปริม\n",
            "น้อนกี้ รัก น้อนอ้อน\n",
            "น้อนกี้ รัก น้อนกี้\n",
            "น้อนกี้ รัก น้อนแอร์\n",
            "น้อนกี้ รัก น้อนแคท\n",
            "น้อนกี้ รัก น้อนออย\n",
            "น้อนกี้ รัก น้อนปริม\n",
            "น้อนแอร์ รัก น้อนอ้อน\n",
            "น้อนแอร์ รัก น้อนกี้\n",
            "น้อนแอร์ รัก น้อนแอร์\n",
            "น้อนแอร์ รัก น้อนแคท\n",
            "น้อนแอร์ รัก น้อนออย\n",
            "น้อนแอร์ รัก น้อนปริม\n",
            "น้อนแคท รัก น้อนอ้อน\n",
            "น้อนแคท รัก น้อนกี้\n",
            "น้อนแคท รัก น้อนแอร์\n",
            "น้อนแคท รัก น้อนแคท\n",
            "น้อนแคท รัก น้อนออย\n",
            "น้อนแคท รัก น้อนปริม\n",
            "น้อนออย รัก น้อนอ้อน\n",
            "น้อนออย รัก น้อนกี้\n",
            "น้อนออย รัก น้อนแอร์\n",
            "น้อนออย รัก น้อนแคท\n",
            "น้อนออย รัก น้อนออย\n",
            "น้อนออย รัก น้อนปริม\n",
            "น้อนปริม รัก น้อนอ้อน\n",
            "น้อนปริม รัก น้อนกี้\n",
            "น้อนปริม รัก น้อนแอร์\n",
            "น้อนปริม รัก น้อนแคท\n",
            "น้อนปริม รัก น้อนออย\n",
            "น้อนปริม รัก น้อนปริม\n"
          ],
          "name": "stdout"
        }
      ]
    },
    {
      "cell_type": "code",
      "metadata": {
        "colab": {
          "base_uri": "https://localhost:8080/"
        },
        "id": "fdc1Cj4hlsrz",
        "outputId": "26a0a520-f3dd-490c-aeab-3d23e1d914a9"
      },
      "source": [
        "for name1 in list_friends : \r\n",
        "  for name2 in list_friends :\r\n",
        "   if name1 != name2: #ไม่ปริ้นชื่อคนเดียวกันซ้ำ\r\n",
        "    print(name1, 'รัก' , name2)"
      ],
      "execution_count": 61,
      "outputs": [
        {
          "output_type": "stream",
          "text": [
            "น้อนอ้อน รัก น้อนกี้\n",
            "น้อนอ้อน รัก น้อนแอร์\n",
            "น้อนอ้อน รัก น้อนแคท\n",
            "น้อนอ้อน รัก น้อนออย\n",
            "น้อนอ้อน รัก น้อนปริม\n",
            "น้อนกี้ รัก น้อนอ้อน\n",
            "น้อนกี้ รัก น้อนแอร์\n",
            "น้อนกี้ รัก น้อนแคท\n",
            "น้อนกี้ รัก น้อนออย\n",
            "น้อนกี้ รัก น้อนปริม\n",
            "น้อนแอร์ รัก น้อนอ้อน\n",
            "น้อนแอร์ รัก น้อนกี้\n",
            "น้อนแอร์ รัก น้อนแคท\n",
            "น้อนแอร์ รัก น้อนออย\n",
            "น้อนแอร์ รัก น้อนปริม\n",
            "น้อนแคท รัก น้อนอ้อน\n",
            "น้อนแคท รัก น้อนกี้\n",
            "น้อนแคท รัก น้อนแอร์\n",
            "น้อนแคท รัก น้อนออย\n",
            "น้อนแคท รัก น้อนปริม\n",
            "น้อนออย รัก น้อนอ้อน\n",
            "น้อนออย รัก น้อนกี้\n",
            "น้อนออย รัก น้อนแอร์\n",
            "น้อนออย รัก น้อนแคท\n",
            "น้อนออย รัก น้อนปริม\n",
            "น้อนปริม รัก น้อนอ้อน\n",
            "น้อนปริม รัก น้อนกี้\n",
            "น้อนปริม รัก น้อนแอร์\n",
            "น้อนปริม รัก น้อนแคท\n",
            "น้อนปริม รัก น้อนออย\n"
          ],
          "name": "stdout"
        }
      ]
    },
    {
      "cell_type": "code",
      "metadata": {
        "colab": {
          "base_uri": "https://localhost:8080/"
        },
        "id": "oeTdqjF3mDuX",
        "outputId": "16ee5bec-86de-4534-805c-19b83544813d"
      },
      "source": [
        "for name1 in list_friends : \r\n",
        "  for name2 in list_friends :\r\n",
        "   if name1 == name2: #ปริ้นชื่อคนเดียวกันซ้ำ\r\n",
        "    print(name1, 'รัก' , name2)"
      ],
      "execution_count": 60,
      "outputs": [
        {
          "output_type": "stream",
          "text": [
            "น้อนอ้อน รัก น้อนอ้อน\n",
            "น้อนกี้ รัก น้อนกี้\n",
            "น้อนแอร์ รัก น้อนแอร์\n",
            "น้อนแคท รัก น้อนแคท\n",
            "น้อนออย รัก น้อนออย\n",
            "น้อนปริม รัก น้อนปริม\n"
          ],
          "name": "stdout"
        }
      ]
    },
    {
      "cell_type": "code",
      "metadata": {
        "colab": {
          "base_uri": "https://localhost:8080/"
        },
        "id": "FpMpk31FmSCc",
        "outputId": "6051396b-2213-414a-8721-50cb890e05ad"
      },
      "source": [
        "for name1 in list_friends : \r\n",
        "  for name2 in list_friends :\r\n",
        "   if name1 == name2: \r\n",
        "      'do nothing'\r\n",
        "   else :\r\n",
        "    print(name1, 'รัก' , name2)"
      ],
      "execution_count": 59,
      "outputs": [
        {
          "output_type": "stream",
          "text": [
            "น้อนอ้อน รัก น้อนกี้\n",
            "น้อนอ้อน รัก น้อนแอร์\n",
            "น้อนอ้อน รัก น้อนแคท\n",
            "น้อนอ้อน รัก น้อนออย\n",
            "น้อนอ้อน รัก น้อนปริม\n",
            "น้อนกี้ รัก น้อนอ้อน\n",
            "น้อนกี้ รัก น้อนแอร์\n",
            "น้อนกี้ รัก น้อนแคท\n",
            "น้อนกี้ รัก น้อนออย\n",
            "น้อนกี้ รัก น้อนปริม\n",
            "น้อนแอร์ รัก น้อนอ้อน\n",
            "น้อนแอร์ รัก น้อนกี้\n",
            "น้อนแอร์ รัก น้อนแคท\n",
            "น้อนแอร์ รัก น้อนออย\n",
            "น้อนแอร์ รัก น้อนปริม\n",
            "น้อนแคท รัก น้อนอ้อน\n",
            "น้อนแคท รัก น้อนกี้\n",
            "น้อนแคท รัก น้อนแอร์\n",
            "น้อนแคท รัก น้อนออย\n",
            "น้อนแคท รัก น้อนปริม\n",
            "น้อนออย รัก น้อนอ้อน\n",
            "น้อนออย รัก น้อนกี้\n",
            "น้อนออย รัก น้อนแอร์\n",
            "น้อนออย รัก น้อนแคท\n",
            "น้อนออย รัก น้อนปริม\n",
            "น้อนปริม รัก น้อนอ้อน\n",
            "น้อนปริม รัก น้อนกี้\n",
            "น้อนปริม รัก น้อนแอร์\n",
            "น้อนปริม รัก น้อนแคท\n",
            "น้อนปริม รัก น้อนออย\n"
          ],
          "name": "stdout"
        }
      ]
    },
    {
      "cell_type": "markdown",
      "metadata": {
        "id": "4jn7arbFm0_t"
      },
      "source": [
        "## ==, !=, >=, <=, <, >"
      ]
    },
    {
      "cell_type": "code",
      "metadata": {
        "colab": {
          "base_uri": "https://localhost:8080/"
        },
        "id": "nseFelglm-44",
        "outputId": "67f07ef0-e16a-48a8-a9f2-cb28d4a00dcf"
      },
      "source": [
        "'พิแอร์' == 'พิอ้อน'"
      ],
      "execution_count": 48,
      "outputs": [
        {
          "output_type": "execute_result",
          "data": {
            "text/plain": [
              "False"
            ]
          },
          "metadata": {
            "tags": []
          },
          "execution_count": 48
        }
      ]
    },
    {
      "cell_type": "code",
      "metadata": {
        "colab": {
          "base_uri": "https://localhost:8080/"
        },
        "id": "u27sjVqFnPWX",
        "outputId": "c689fdb9-2814-4713-fc5c-4a1b7ec51a1a"
      },
      "source": [
        "'พิเฟิร์น' == 'พิเฟิร์น'"
      ],
      "execution_count": 49,
      "outputs": [
        {
          "output_type": "execute_result",
          "data": {
            "text/plain": [
              "True"
            ]
          },
          "metadata": {
            "tags": []
          },
          "execution_count": 49
        }
      ]
    },
    {
      "cell_type": "markdown",
      "metadata": {
        "id": "mmL_J5ZvnZIh"
      },
      "source": [
        "## ให้ปริ้น Yes"
      ]
    },
    {
      "cell_type": "code",
      "metadata": {
        "colab": {
          "base_uri": "https://localhost:8080/"
        },
        "id": "H_KqvsaDndLy",
        "outputId": "cb1d0865-1962-44ad-a4a7-023f4b914af8"
      },
      "source": [
        "if False :\r\n",
        "  print('Yes')\r\n",
        "else:\r\n",
        "    print('No')"
      ],
      "execution_count": 55,
      "outputs": [
        {
          "output_type": "stream",
          "text": [
            "No\n"
          ],
          "name": "stdout"
        }
      ]
    }
  ]
}