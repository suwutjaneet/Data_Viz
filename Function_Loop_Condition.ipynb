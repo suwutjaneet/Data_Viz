{
  "nbformat": 4,
  "nbformat_minor": 0,
  "metadata": {
    "colab": {
      "name": "Function_Loop_Condition.ipynb",
      "provenance": [],
      "include_colab_link": true
    },
    "kernelspec": {
      "name": "python3",
      "display_name": "Python 3"
    }
  },
  "cells": [
    {
      "cell_type": "markdown",
      "metadata": {
        "id": "view-in-github",
        "colab_type": "text"
      },
      "source": [
        "<a href=\"https://colab.research.google.com/github/suwutjaneet/Data_Viz/blob/main/Function_Loop_Condition.ipynb\" target=\"_parent\"><img src=\"https://colab.research.google.com/assets/colab-badge.svg\" alt=\"Open In Colab\"/></a>"
      ]
    },
    {
      "cell_type": "markdown",
      "metadata": {
        "id": "cJx8veUqgTuY"
      },
      "source": [
        "Function"
      ]
    },
    {
      "cell_type": "markdown",
      "metadata": {
        "id": "WcBocIYQg1Gs"
      },
      "source": [
        "Function template ทำหน้าที่รับ input มาประมวณผลออกมาเป็น output"
      ]
    },
    {
      "cell_type": "markdown",
      "metadata": {
        "id": "e1p1qflZhIn9"
      },
      "source": [
        "f(x) = y"
      ]
    },
    {
      "cell_type": "markdown",
      "metadata": {
        "id": "2cAi56jXhGR4"
      },
      "source": [
        "def คือ การกำหนดฟังก์ชัน"
      ]
    },
    {
      "cell_type": "markdown",
      "metadata": {
        "id": "KWKl8DwFkOAF"
      },
      "source": [
        "```python \n",
        "def function_name(_Input_) :\n",
        "  do_something with _Input_ to get _Output_\n",
        "  return _Output_\n",
        "  ```"
      ]
    },
    {
      "cell_type": "markdown",
      "metadata": {
        "id": "a0m4JUK5l8uJ"
      },
      "source": [
        "function มีส่วนสำคัญทั้งหมด 4 ส่วน\n",
        "1. บอก python ว่าเราจะเขียนฟังก์ชัน ชื่ออะไร ```def function_name():``` << ขาดไม่ได้\n",
        "2. กำหนดตัวแปรที่จะเป็น input ```_Input_``` << ขาดได้\n",
        "3. ส่วนประมวณผล ```do_something with _Input_ to get _Output_``` << ขาดไม่ได้\n",
        "4. ส่วน output ```return _Output_``` << ขาดได้ "
      ]
    },
    {
      "cell_type": "markdown",
      "metadata": {
        "id": "i9DsdMl9kTOT"
      },
      "source": [
        "ตัวอย่างการเขียน normal function"
      ]
    },
    {
      "cell_type": "code",
      "metadata": {
        "id": "eE8ZwtwJkHbT"
      },
      "source": [
        "def print_name(surname,ID,name) :\n",
        "  st = f'ชื่อ {name} นามสกุล {surname} รหัส {ID}'\n",
        "  return st"
      ],
      "execution_count": null,
      "outputs": []
    },
    {
      "cell_type": "code",
      "metadata": {
        "colab": {
          "base_uri": "https://localhost:8080/",
          "height": 37
        },
        "id": "2OtRH5CAk1a4",
        "outputId": "709c3eac-d211-4ca1-e03e-057e6e22c14a"
      },
      "source": [
        "print_name('พวงมาลัย','613020551-8','ธันยาการต์')"
      ],
      "execution_count": null,
      "outputs": [
        {
          "output_type": "execute_result",
          "data": {
            "application/vnd.google.colaboratory.intrinsic+json": {
              "type": "string"
            },
            "text/plain": [
              "'ชื่อ ธันยาการต์ นามสกุล พวงมาลัย รหัส 613020551-8'"
            ]
          },
          "metadata": {
            "tags": []
          },
          "execution_count": 5
        }
      ]
    },
    {
      "cell_type": "code",
      "metadata": {
        "colab": {
          "base_uri": "https://localhost:8080/"
        },
        "id": "wiiJEoOvnpPV",
        "outputId": "2d5ec609-067e-4e35-88fb-629d1a9a4fdc"
      },
      "source": [
        "print(print_name(name='ธันยาการต์',surname='พวงมาลัย',ID='613020551-8'))"
      ],
      "execution_count": null,
      "outputs": [
        {
          "output_type": "stream",
          "text": [
            "ชื่อ ธันยาการต์ นามสกุล พวงมาลัย รหัส 613020551-8\n"
          ],
          "name": "stdout"
        }
      ]
    },
    {
      "cell_type": "markdown",
      "metadata": {
        "id": "F8mdQ-qIpa8O"
      },
      "source": [
        "ใช้เว้นวรรค(indent) เพื่อบอกขอบเขตของโปรแกรม"
      ]
    },
    {
      "cell_type": "code",
      "metadata": {
        "id": "FwvPmBTFpAF3"
      },
      "source": [
        "def print_name2(surname,ID,name) :\n",
        "  st = f'ชื่อ {name} นามสกุล {surname} รหัส {ID}'\n",
        "  print(st)"
      ],
      "execution_count": null,
      "outputs": []
    },
    {
      "cell_type": "code",
      "metadata": {
        "colab": {
          "base_uri": "https://localhost:8080/"
        },
        "id": "9ssQZkRopnsi",
        "outputId": "7372a2f6-e532-49fa-e98c-64e4a48dc7e7"
      },
      "source": [
        "print_name2(name='ธันยาการต์',surname='พวงมาลัย',ID='613020551-8')"
      ],
      "execution_count": null,
      "outputs": [
        {
          "output_type": "stream",
          "text": [
            "ชื่อ ธันยาการต์ นามสกุล พวงมาลัย รหัส 613020551-8\n"
          ],
          "name": "stdout"
        }
      ]
    },
    {
      "cell_type": "markdown",
      "metadata": {
        "id": "mXsZS0C8qatD"
      },
      "source": [
        "ฟังก์ชันไม่จำเป็นต้องมี input"
      ]
    },
    {
      "cell_type": "code",
      "metadata": {
        "id": "lwfmsbh6qjLU"
      },
      "source": [
        "def Pi():\n",
        "  return 3.14159265359"
      ],
      "execution_count": null,
      "outputs": []
    },
    {
      "cell_type": "code",
      "metadata": {
        "colab": {
          "base_uri": "https://localhost:8080/"
        },
        "id": "qR24vKTSqsyA",
        "outputId": "7e51b9e8-7afc-4988-ecb8-5f3cacb5fdad"
      },
      "source": [
        "Pi()*(2**2) # หาพื้นที่ของวงกลมที่มีรัศมีเท่ากับ Pi * r^2 "
      ],
      "execution_count": null,
      "outputs": [
        {
          "output_type": "execute_result",
          "data": {
            "text/plain": [
              "12.56637061436"
            ]
          },
          "metadata": {
            "tags": []
          },
          "execution_count": 13
        }
      ]
    },
    {
      "cell_type": "markdown",
      "metadata": {
        "id": "LxeUt0Hdrcky"
      },
      "source": [
        "เราสามารถกำหนดค่า default ให้กับฟังก์ชันได้"
      ]
    },
    {
      "cell_type": "markdown",
      "metadata": {
        "id": "SuaseaVGxXsb"
      },
      "source": [
        "input ของ function ใน python มี 2 แบบ คือ \n",
        "1. input ที่จำเป็นต้องใส่\n",
        "2. input ที่ไม่จำเป็นต้องใส่ (มีค่า default)"
      ]
    },
    {
      "cell_type": "code",
      "metadata": {
        "id": "A24HEC8Vrr6d"
      },
      "source": [
        "def print_2lines_default(name,surname,ID,grade='F'):\n",
        "  st = f'ชื่อ {name} นามสกุล {surname} รหัส {ID}'\n",
        "  print(st)\n",
        "  st2 = f'เกรดวิชา Data Viz >>> {grade}'\n",
        "  print(st2)"
      ],
      "execution_count": null,
      "outputs": []
    },
    {
      "cell_type": "code",
      "metadata": {
        "colab": {
          "base_uri": "https://localhost:8080/"
        },
        "id": "ODRwrrvEs-Sp",
        "outputId": "d4563117-6234-4f41-826e-7cc90a685c8b"
      },
      "source": [
        "print_2lines_default('ธันยาการต์','พวงมาลัย','613020551-8')"
      ],
      "execution_count": null,
      "outputs": [
        {
          "output_type": "stream",
          "text": [
            "ชื่อ ธันยาการต์ นามสกุล พวงมาลัย รหัส 613020551-8\n",
            "เกรดวิชา Data Viz >>> F\n"
          ],
          "name": "stdout"
        }
      ]
    },
    {
      "cell_type": "code",
      "metadata": {
        "colab": {
          "base_uri": "https://localhost:8080/"
        },
        "id": "KCclWSiexQAd",
        "outputId": "d3d18681-7d16-47bb-ddb7-a85e228067cc"
      },
      "source": [
        "print_2lines_default('ธันยาการต์','พวงมาลัย','613020551-8','A')"
      ],
      "execution_count": null,
      "outputs": [
        {
          "output_type": "stream",
          "text": [
            "ชื่อ ธันยาการต์ นามสกุล พวงมาลัย รหัส 613020551-8\n",
            "เกรดวิชา Data Viz >>> A\n"
          ],
          "name": "stdout"
        }
      ]
    },
    {
      "cell_type": "markdown",
      "metadata": {
        "id": "EfXBiS5V0XXZ"
      },
      "source": [
        "LOOP การวนซ้ำ"
      ]
    },
    {
      "cell_type": "markdown",
      "metadata": {
        "id": "85ZH0yHi0kik"
      },
      "source": [
        "for เป็นคำที่ใช้บอก python ว่าเรากำลังเขียน loop \n",
        "โดย for จะวนดึงสมาชิกจาก ```listA``` มาทำ process ```do_something```"
      ]
    },
    {
      "cell_type": "markdown",
      "metadata": {
        "id": "e5SA9bhx0_65"
      },
      "source": [
        "for each_member in listA :\n",
        "do_something"
      ]
    },
    {
      "cell_type": "markdown",
      "metadata": {
        "id": "YDPUz3oa1VJ6"
      },
      "source": [
        "คำสั่ง for เป็นคำสั่งวนซ้ำที่ใช้ควบคุมการทำงานซ้ำๆในจำนวนรอบที่แน่นอน"
      ]
    },
    {
      "cell_type": "code",
      "metadata": {
        "colab": {
          "base_uri": "https://localhost:8080/"
        },
        "id": "1jBOwk2o0aX8",
        "outputId": "762ad620-0339-40ff-bb8a-c3ca43eae176"
      },
      "source": [
        "for i in [1,2,3] :\n",
        "  o = i**2\n",
        "  print(f'this member = {i} after process = {o}')"
      ],
      "execution_count": null,
      "outputs": [
        {
          "output_type": "stream",
          "text": [
            "this member = 1 after process = 1\n",
            "this member = 2 after process = 4\n",
            "this member = 3 after process = 9\n"
          ],
          "name": "stdout"
        }
      ]
    },
    {
      "cell_type": "code",
      "metadata": {
        "id": "mXar_rvh1Seb",
        "colab": {
          "base_uri": "https://localhost:8080/"
        },
        "outputId": "c4417952-c69b-48ed-810d-e26dd42d159b"
      },
      "source": [
        "for i in 'Tunyakarn' :\n",
        "  print(f'{i} -> / ')"
      ],
      "execution_count": null,
      "outputs": [
        {
          "output_type": "stream",
          "text": [
            "T -> / \n",
            "u -> / \n",
            "n -> / \n",
            "y -> / \n",
            "a -> / \n",
            "k -> / \n",
            "a -> / \n",
            "r -> / \n",
            "n -> / \n"
          ],
          "name": "stdout"
        }
      ]
    },
    {
      "cell_type": "code",
      "metadata": {
        "id": "w_9Cjq3GWPka",
        "colab": {
          "base_uri": "https://localhost:8080/"
        },
        "outputId": "972b053b-81aa-4738-eacc-9aa015587c3b"
      },
      "source": [
        "for i in 'Tunyakarn' :\n",
        "  print(f'{i} -> / ' ,end = '') #สั่งให้ print แบบไม่เว้นบรรทัด"
      ],
      "execution_count": null,
      "outputs": [
        {
          "output_type": "stream",
          "text": [
            "T -> / u -> / n -> / y -> / a -> / k -> / a -> / r -> / n -> / "
          ],
          "name": "stdout"
        }
      ]
    },
    {
      "cell_type": "code",
      "metadata": {
        "id": "Ms853ExlW5hn",
        "colab": {
          "base_uri": "https://localhost:8080/"
        },
        "outputId": "d0a08fba-2a20-4d80-e773-a02e045dbf75"
      },
      "source": [
        "for i in 'Tunyakarn' :\n",
        "  print(f'{i} -> / ' ,end = ',')"
      ],
      "execution_count": null,
      "outputs": [
        {
          "output_type": "stream",
          "text": [
            "T -> / ,u -> / ,n -> / ,y -> / ,a -> / ,k -> / ,a -> / ,r -> / ,n -> / ,"
          ],
          "name": "stdout"
        }
      ]
    },
    {
      "cell_type": "markdown",
      "metadata": {
        "id": "woS4G4scXTv9"
      },
      "source": [
        "## สร้าง list ตัวเลขแบบอัตโนมัติ range()"
      ]
    },
    {
      "cell_type": "code",
      "metadata": {
        "id": "mdp7d4YHXdFy",
        "colab": {
          "base_uri": "https://localhost:8080/"
        },
        "outputId": "c14c535c-7eae-4764-8638-3625a5d81cfb"
      },
      "source": [
        "range5_output = range(5)\n",
        "print(list(range5_output))"
      ],
      "execution_count": null,
      "outputs": [
        {
          "output_type": "stream",
          "text": [
            "[0, 1, 2, 3, 4]\n"
          ],
          "name": "stdout"
        }
      ]
    },
    {
      "cell_type": "code",
      "metadata": {
        "id": "ThTzaEb8YRBA",
        "colab": {
          "base_uri": "https://localhost:8080/"
        },
        "outputId": "9e5f985e-31e9-43f5-ed36-ee3ebdf99817"
      },
      "source": [
        "for i in range(100):\n",
        "  print('งง' ,end = ' ')"
      ],
      "execution_count": null,
      "outputs": [
        {
          "output_type": "stream",
          "text": [
            "งง งง งง งง งง งง งง งง งง งง งง งง งง งง งง งง งง งง งง งง งง งง งง งง งง งง งง งง งง งง งง งง งง งง งง งง งง งง งง งง งง งง งง งง งง งง งง งง งง งง งง งง งง งง งง งง งง งง งง งง งง งง งง งง งง งง งง งง งง งง งง งง งง งง งง งง งง งง งง งง งง งง งง งง งง งง งง งง งง งง งง งง งง งง งง งง งง งง งง งง "
          ],
          "name": "stdout"
        }
      ]
    },
    {
      "cell_type": "code",
      "metadata": {
        "id": "J4Nj75OIY6Q6",
        "colab": {
          "base_uri": "https://localhost:8080/"
        },
        "outputId": "6f9e7e55-d2dd-4f24-9980-a5408a444743"
      },
      "source": [
        "list(range(1,11)) #เริ่งต้นเป็นวงกลมทึบ จบเป็นวงกลมโปร่ง หลักการเหมือน list slicing "
      ],
      "execution_count": null,
      "outputs": [
        {
          "output_type": "execute_result",
          "data": {
            "text/plain": [
              "[1, 2, 3, 4, 5, 6, 7, 8, 9, 10]"
            ]
          },
          "metadata": {
            "tags": []
          },
          "execution_count": 10
        }
      ]
    },
    {
      "cell_type": "code",
      "metadata": {
        "id": "KQgWEZMVceQe",
        "colab": {
          "base_uri": "https://localhost:8080/"
        },
        "outputId": "f33458a4-d74c-4404-db03-ed17a5ddf6b6"
      },
      "source": [
        "list(range(-3,20,4)) #ตัวในวงเล็บคือ (จุดเริ่มต้น,จุดจบ,เพิ่มทีละ)"
      ],
      "execution_count": null,
      "outputs": [
        {
          "output_type": "execute_result",
          "data": {
            "text/plain": [
              "[-3, 1, 5, 9, 13, 17]"
            ]
          },
          "metadata": {
            "tags": []
          },
          "execution_count": 11
        }
      ]
    },
    {
      "cell_type": "markdown",
      "metadata": {
        "id": "HUwF_Ptcc7To"
      },
      "source": [
        "## loop in loop\n",
        "## สามารถใช้ for loop ซ้อนกันสองรอบได้"
      ]
    },
    {
      "cell_type": "code",
      "metadata": {
        "id": "0WZ9lW_wdNsP",
        "colab": {
          "base_uri": "https://localhost:8080/"
        },
        "outputId": "78815f4b-5fe7-49fe-fff8-7ce497caf8a4"
      },
      "source": [
        "for name1 in range(2,5): #ผลคือ 2,3,4\n",
        "  print(f'now name1 = {name1}')\n",
        "  for name2 in range(1,13):\n",
        "    print(name1,' x ',name2, ' = ',name1*name2)\n",
        "  print('the inner loop is end')"
      ],
      "execution_count": null,
      "outputs": [
        {
          "output_type": "stream",
          "text": [
            "now name1 = 2\n",
            "2  x  1  =  2\n",
            "2  x  2  =  4\n",
            "2  x  3  =  6\n",
            "2  x  4  =  8\n",
            "2  x  5  =  10\n",
            "2  x  6  =  12\n",
            "2  x  7  =  14\n",
            "2  x  8  =  16\n",
            "2  x  9  =  18\n",
            "2  x  10  =  20\n",
            "2  x  11  =  22\n",
            "2  x  12  =  24\n",
            "the inner loop is end\n",
            "now name1 = 3\n",
            "3  x  1  =  3\n",
            "3  x  2  =  6\n",
            "3  x  3  =  9\n",
            "3  x  4  =  12\n",
            "3  x  5  =  15\n",
            "3  x  6  =  18\n",
            "3  x  7  =  21\n",
            "3  x  8  =  24\n",
            "3  x  9  =  27\n",
            "3  x  10  =  30\n",
            "3  x  11  =  33\n",
            "3  x  12  =  36\n",
            "the inner loop is end\n",
            "now name1 = 4\n",
            "4  x  1  =  4\n",
            "4  x  2  =  8\n",
            "4  x  3  =  12\n",
            "4  x  4  =  16\n",
            "4  x  5  =  20\n",
            "4  x  6  =  24\n",
            "4  x  7  =  28\n",
            "4  x  8  =  32\n",
            "4  x  9  =  36\n",
            "4  x  10  =  40\n",
            "4  x  11  =  44\n",
            "4  x  12  =  48\n",
            "the inner loop is end\n"
          ],
          "name": "stdout"
        }
      ]
    },
    {
      "cell_type": "markdown",
      "metadata": {
        "id": "B2DT5FHRfH9F"
      },
      "source": [
        "## loop in function การวนลูปในฟังก์ชัน"
      ]
    },
    {
      "cell_type": "code",
      "metadata": {
        "id": "kV9kF7VdgWX6"
      },
      "source": [
        "def print_feelings(I,friends,feeling = 'คิดถึง'):\n",
        "  for friend in friends :\n",
        "    print(f'{I} {feeling} {friend}')"
      ],
      "execution_count": null,
      "outputs": []
    },
    {
      "cell_type": "code",
      "metadata": {
        "id": "GZvSH74Tfm-A"
      },
      "source": [
        "list_friends = ['กล้า','แพร','เบญ','เนย','แอน']"
      ],
      "execution_count": null,
      "outputs": []
    },
    {
      "cell_type": "code",
      "metadata": {
        "id": "4RevCqN2grXd",
        "colab": {
          "base_uri": "https://localhost:8080/"
        },
        "outputId": "67c215c1-ed98-417a-db83-15a2cbe6d09a"
      },
      "source": [
        "print_feelings('ปูนปั้น',list_friends)"
      ],
      "execution_count": null,
      "outputs": [
        {
          "output_type": "stream",
          "text": [
            "ปูนปั้น คิดถึง กล้า\n",
            "ปูนปั้น คิดถึง แพร\n",
            "ปูนปั้น คิดถึง เบญ\n",
            "ปูนปั้น คิดถึง เนย\n",
            "ปูนปั้น คิดถึง แอน\n"
          ],
          "name": "stdout"
        }
      ]
    },
    {
      "cell_type": "code",
      "metadata": {
        "id": "Fubt0kTPB0Zk",
        "colab": {
          "base_uri": "https://localhost:8080/"
        },
        "outputId": "10f8bd15-b613-4bbf-d93f-c401c8472039"
      },
      "source": [
        "print_feelings('ปูนปั้น',list_friends,feeling='รัก')"
      ],
      "execution_count": null,
      "outputs": [
        {
          "output_type": "stream",
          "text": [
            "ปูนปั้น รัก กล้า\n",
            "ปูนปั้น รัก แพร\n",
            "ปูนปั้น รัก เบญ\n",
            "ปูนปั้น รัก เนย\n",
            "ปูนปั้น รัก แอน\n"
          ],
          "name": "stdout"
        }
      ]
    },
    {
      "cell_type": "code",
      "metadata": {
        "id": "eQMyJv_MB9fy",
        "colab": {
          "base_uri": "https://localhost:8080/"
        },
        "outputId": "0250ce31-bbe8-4e62-822f-27bceca9ade4"
      },
      "source": [
        "print_feelings('ปูนปั้น',list_friends,'รัก')"
      ],
      "execution_count": null,
      "outputs": [
        {
          "output_type": "stream",
          "text": [
            "ปูนปั้น รัก กล้า\n",
            "ปูนปั้น รัก แพร\n",
            "ปูนปั้น รัก เบญ\n",
            "ปูนปั้น รัก เนย\n",
            "ปูนปั้น รัก แอน\n"
          ],
          "name": "stdout"
        }
      ]
    },
    {
      "cell_type": "markdown",
      "metadata": {
        "id": "gkM1gD52kEfm"
      },
      "source": [
        "## condition คือ เงื่อนไข/ประโยคเงื่อนไข"
      ]
    },
    {
      "cell_type": "markdown",
      "metadata": {
        "id": "gDgCQhCU_6Tb"
      },
      "source": [
        "## True/False\n",
        "## การวนลูปโดยมีเงื่อนไขต่างๆมาเกี่ยวข้อง โดยมี pattern ดังนี้\n"
      ]
    },
    {
      "cell_type": "markdown",
      "metadata": {
        "id": "JzM1od_RCaEg"
      },
      "source": [
        "```python\n",
        "if condition1 :\n",
        "  do something\n",
        "elif condition2 : #elif คือ else if\n",
        "  do another thing\n",
        "else :\n",
        "  do ...\n",
        "```"
      ]
    },
    {
      "cell_type": "markdown",
      "metadata": {
        "id": "aaSkkXMXmw7t"
      },
      "source": [
        "## สัญลักษณ์ใน condition \n",
        "## ==,!=,>=,<=,<,>"
      ]
    },
    {
      "cell_type": "code",
      "metadata": {
        "id": "OwffV3YeFXBy",
        "colab": {
          "base_uri": "https://localhost:8080/"
        },
        "outputId": "d2b77693-474e-472b-f677-a93576ef71fb"
      },
      "source": [
        "'ปูนปั้น' == 'กล้า'"
      ],
      "execution_count": null,
      "outputs": [
        {
          "output_type": "execute_result",
          "data": {
            "text/plain": [
              "False"
            ]
          },
          "metadata": {
            "tags": []
          },
          "execution_count": 9
        }
      ]
    },
    {
      "cell_type": "code",
      "metadata": {
        "id": "yDpLC9CQFpN9",
        "colab": {
          "base_uri": "https://localhost:8080/"
        },
        "outputId": "1b7cef0a-c4bf-4409-fc89-7dfd1a62b544"
      },
      "source": [
        "'ปูนปั้น' != 'กล้า'"
      ],
      "execution_count": null,
      "outputs": [
        {
          "output_type": "execute_result",
          "data": {
            "text/plain": [
              "True"
            ]
          },
          "metadata": {
            "tags": []
          },
          "execution_count": 10
        }
      ]
    },
    {
      "cell_type": "code",
      "metadata": {
        "id": "v14aD4B7D0Wk",
        "colab": {
          "base_uri": "https://localhost:8080/"
        },
        "outputId": "20f4c870-c602-4fb9-dae9-8ca57470c282"
      },
      "source": [
        "for name1 in list_friends :\n",
        "  for name2 in list_friends :\n",
        "      print(name1,'รัก',name2)"
      ],
      "execution_count": null,
      "outputs": [
        {
          "output_type": "stream",
          "text": [
            "กล้า รัก กล้า\n",
            "กล้า รัก แพร\n",
            "กล้า รัก เบญ\n",
            "กล้า รัก เนย\n",
            "กล้า รัก แอน\n",
            "แพร รัก กล้า\n",
            "แพร รัก แพร\n",
            "แพร รัก เบญ\n",
            "แพร รัก เนย\n",
            "แพร รัก แอน\n",
            "เบญ รัก กล้า\n",
            "เบญ รัก แพร\n",
            "เบญ รัก เบญ\n",
            "เบญ รัก เนย\n",
            "เบญ รัก แอน\n",
            "เนย รัก กล้า\n",
            "เนย รัก แพร\n",
            "เนย รัก เบญ\n",
            "เนย รัก เนย\n",
            "เนย รัก แอน\n",
            "แอน รัก กล้า\n",
            "แอน รัก แพร\n",
            "แอน รัก เบญ\n",
            "แอน รัก เนย\n",
            "แอน รัก แอน\n"
          ],
          "name": "stdout"
        }
      ]
    },
    {
      "cell_type": "code",
      "metadata": {
        "id": "sjnX71c1lb-Y",
        "colab": {
          "base_uri": "https://localhost:8080/"
        },
        "outputId": "6e3b83be-3c0d-493d-c3db-414cc543f098"
      },
      "source": [
        "for name1 in list_friends :\n",
        "  for name2 in list_friends :\n",
        "    if name1 != name2 : #ไม่ print ชื่อคนเดียวกันซ้ำ\n",
        "      print(name1,'รัก',name2)"
      ],
      "execution_count": null,
      "outputs": [
        {
          "output_type": "stream",
          "text": [
            "กล้า รัก แพร\n",
            "กล้า รัก เบญ\n",
            "กล้า รัก เนย\n",
            "กล้า รัก แอน\n",
            "แพร รัก กล้า\n",
            "แพร รัก เบญ\n",
            "แพร รัก เนย\n",
            "แพร รัก แอน\n",
            "เบญ รัก กล้า\n",
            "เบญ รัก แพร\n",
            "เบญ รัก เนย\n",
            "เบญ รัก แอน\n",
            "เนย รัก กล้า\n",
            "เนย รัก แพร\n",
            "เนย รัก เบญ\n",
            "เนย รัก แอน\n",
            "แอน รัก กล้า\n",
            "แอน รัก แพร\n",
            "แอน รัก เบญ\n",
            "แอน รัก เนย\n"
          ],
          "name": "stdout"
        }
      ]
    },
    {
      "cell_type": "code",
      "metadata": {
        "id": "Upl05KVGmCHO",
        "colab": {
          "base_uri": "https://localhost:8080/"
        },
        "outputId": "601bcc00-c76b-429b-97c5-649c7e78e20b"
      },
      "source": [
        "for name1 in list_friends :\n",
        "  for name2 in list_friends :\n",
        "    if name1 == name2 : #print ชื่อคนเดียวกันซ้ำ\n",
        "      print(name1,'รัก',name2)"
      ],
      "execution_count": null,
      "outputs": [
        {
          "output_type": "stream",
          "text": [
            "กล้า รัก กล้า\n",
            "แพร รัก แพร\n",
            "เบญ รัก เบญ\n",
            "เนย รัก เนย\n",
            "แอน รัก แอน\n"
          ],
          "name": "stdout"
        }
      ]
    },
    {
      "cell_type": "code",
      "metadata": {
        "id": "16pBfjnimHA4",
        "colab": {
          "base_uri": "https://localhost:8080/"
        },
        "outputId": "532a31a6-1418-46f2-8f1e-5e687e93d362"
      },
      "source": [
        "for name1 in list_friends :\n",
        "  for name2 in list_friends :\n",
        "    if name1 == name2 : \n",
        "      'do nothing'\n",
        "    else :\n",
        "      print(name1,'รัก',name2)"
      ],
      "execution_count": null,
      "outputs": [
        {
          "output_type": "stream",
          "text": [
            "กล้า รัก แพร\n",
            "กล้า รัก เบญ\n",
            "กล้า รัก เนย\n",
            "กล้า รัก แอน\n",
            "แพร รัก กล้า\n",
            "แพร รัก เบญ\n",
            "แพร รัก เนย\n",
            "แพร รัก แอน\n",
            "เบญ รัก กล้า\n",
            "เบญ รัก แพร\n",
            "เบญ รัก เนย\n",
            "เบญ รัก แอน\n",
            "เนย รัก กล้า\n",
            "เนย รัก แพร\n",
            "เนย รัก เบญ\n",
            "เนย รัก แอน\n",
            "แอน รัก กล้า\n",
            "แอน รัก แพร\n",
            "แอน รัก เบญ\n",
            "แอน รัก เนย\n"
          ],
          "name": "stdout"
        }
      ]
    },
    {
      "cell_type": "markdown",
      "metadata": {
        "id": "vTjIKLtwFFI-"
      },
      "source": [
        "## หากหลังเงื่อนไข True ถูกต้องจะ print ข้อความออกมาว่า Yes\n"
      ]
    },
    {
      "cell_type": "code",
      "metadata": {
        "id": "rSBzMEg2FUyS",
        "colab": {
          "base_uri": "https://localhost:8080/"
        },
        "outputId": "523f3e34-ad19-4f50-d825-8eac38ed11ae"
      },
      "source": [
        "if True :\n",
        "  print('Yes')"
      ],
      "execution_count": null,
      "outputs": [
        {
          "output_type": "stream",
          "text": [
            "Yes\n"
          ],
          "name": "stdout"
        }
      ]
    },
    {
      "cell_type": "markdown",
      "metadata": {
        "id": "o7fF3R0-F9Xu"
      },
      "source": [
        "## หากหลังเงื่อนไข False ไม่ถูกต้องจะไม่ print ข้อความออกมา"
      ]
    },
    {
      "cell_type": "code",
      "metadata": {
        "id": "Gxom1a_CGEab"
      },
      "source": [
        "if False :\n",
        "  print('No')"
      ],
      "execution_count": null,
      "outputs": []
    },
    {
      "cell_type": "markdown",
      "metadata": {
        "id": "1jFMVb9ZGzWx"
      },
      "source": [
        "## หากอยากให้หลังเงื่อนไข False print ข้อความออกมา จะต้องใช้เงื่อไข ดังนี้"
      ]
    },
    {
      "cell_type": "code",
      "metadata": {
        "id": "s-XsMT_YHSGX",
        "colab": {
          "base_uri": "https://localhost:8080/"
        },
        "outputId": "bf8d42ba-49d0-44dc-ab2f-00cfad348aeb"
      },
      "source": [
        "if False :\n",
        "  print('Yes')\n",
        "else :\n",
        "  print('No')"
      ],
      "execution_count": null,
      "outputs": [
        {
          "output_type": "stream",
          "text": [
            "No\n"
          ],
          "name": "stdout"
        }
      ]
    },
    {
      "cell_type": "markdown",
      "metadata": {
        "id": "j9V-6JccHqMn"
      },
      "source": [
        "## HW\n",
        "## เขียน function ตัดเกรด โดยที่ input เป็นคะแนน (0-100) , output เป็นเกรด (F-A) \n",
        "## input = [1,50,65,90,101,-5,49]"
      ]
    },
    {
      "cell_type": "code",
      "metadata": {
        "id": "MX6RKjJwIHRi"
      },
      "source": [
        "def grade(score) :\n",
        "  if score < 0 :\n",
        "    print(f'คะแนน เท่ากับ {score} กรอกคะแนนผิด')\n",
        "  if 0 <= score < 50 :\n",
        "    print(f'คะแนน เท่ากับ {score} จะได้เกรด F')\n",
        "  if 50 <= score < 55 :\n",
        "    print(f'คะแนน เท่ากับ {score} จะได้เกรด D')\n",
        "  if 55 <= score < 60 :\n",
        "    print(f'คะแนน เท่ากับ {score} จะได้เกรด D+')\n",
        "  if 60 <= score < 65 :\n",
        "    print(f'คะแนน เท่ากับ {score} จะได้เกรด C')\n",
        "  if 65 <= score < 70 :\n",
        "    print(f'คะแนน เท่ากับ {score} จะได้เกรด C+')\n",
        "  if 70 <= score < 75 :\n",
        "    print(f'คะแนน เท่ากับ {score} จะได้เกรด B')\n",
        "  if 75 <= score < 80 :\n",
        "    print(f'คะแนน เท่ากับ {score} จะได้เกรด B+')\n",
        "  if 80 <= score < 100 :\n",
        "    print(f'คะแนน เท่ากับ {score} จะได้เกรด A')\n",
        "  if score >= 100 :\n",
        "    print(f'คะแนน เท่ากับ {score} กรอกคะแนนผิด')"
      ],
      "execution_count": null,
      "outputs": []
    },
    {
      "cell_type": "code",
      "metadata": {
        "id": "zkBsimd8KksH"
      },
      "source": [
        "input = [1,50,65,90,101,-5,49]"
      ],
      "execution_count": null,
      "outputs": []
    },
    {
      "cell_type": "code",
      "metadata": {
        "id": "OO_a0oggKqhf",
        "colab": {
          "base_uri": "https://localhost:8080/"
        },
        "outputId": "a9c5998b-073e-4cfa-db57-a6e5da862165"
      },
      "source": [
        "for score in input :\n",
        "  grade(score)"
      ],
      "execution_count": null,
      "outputs": [
        {
          "output_type": "stream",
          "text": [
            "คะแนน เท่ากับ 1 จะได้เกรด F\n",
            "คะแนน เท่ากับ 50 จะได้เกรด D\n",
            "คะแนน เท่ากับ 65 จะได้เกรด C+\n",
            "คะแนน เท่ากับ 90 จะได้เกรด A\n",
            "คะแนน เท่ากับ 101 กรอกคะแนนผิด\n",
            "คะแนน เท่ากับ -5 กรอกคะแนนผิด\n",
            "คะแนน เท่ากับ 49 จะได้เกรด F\n"
          ],
          "name": "stdout"
        }
      ]
    }
  ]
}