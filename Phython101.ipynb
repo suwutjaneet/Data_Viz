{
  "nbformat": 4,
  "nbformat_minor": 0,
  "metadata": {
    "colab": {
      "name": "Phython101.ipynb",
      "provenance": [],
      "include_colab_link": true
    },
    "kernelspec": {
      "name": "python3",
      "display_name": "Python 3"
    }
  },
  "cells": [
    {
      "cell_type": "markdown",
      "metadata": {
        "id": "view-in-github",
        "colab_type": "text"
      },
      "source": [
        "<a href=\"https://colab.research.google.com/github/suwutjaneet/Data_Viz/blob/main/Phython101.ipynb\" target=\"_parent\"><img src=\"https://colab.research.google.com/assets/colab-badge.svg\" alt=\"Open In Colab\"/></a>"
      ]
    },
    {
      "cell_type": "markdown",
      "metadata": {
        "id": "8PavXc13NoUk"
      },
      "source": [
        "หลักการตั้งชื่อตัวแปลเบื้องต้น\n",
        "\n",
        "1. ตั้งให้เราเข้าใจว่าตัวแปลนั้นแทนค่าอะไร\n",
        "2. ใช้ภาษาอังกฤษ\n",
        "3. ใช้ตัวเลขได้ แต่ห้ามขึ้นต้นด้วยตัวเลข\n",
        "4. ห้ามเว้นวรรค"
      ]
    },
    {
      "cell_type": "code",
      "metadata": {
        "id": "id0paCAOM6k7"
      },
      "source": [
        "pi = 3.14159265359"
      ],
      "execution_count": null,
      "outputs": []
    },
    {
      "cell_type": "code",
      "metadata": {
        "colab": {
          "base_uri": "https://localhost:8080/"
        },
        "id": "HSRlaCVQOoBT",
        "outputId": "40cead4d-8df2-4296-9618-a7dcc2a64814"
      },
      "source": [
        "pi"
      ],
      "execution_count": null,
      "outputs": [
        {
          "output_type": "execute_result",
          "data": {
            "text/plain": [
              "3.14159265359"
            ]
          },
          "metadata": {
            "tags": []
          },
          "execution_count": 31
        }
      ]
    },
    {
      "cell_type": "markdown",
      "metadata": {
        "id": "dtCqhYb3O6Ib"
      },
      "source": [
        "int : จำนวนเต็ม"
      ]
    },
    {
      "cell_type": "code",
      "metadata": {
        "id": "G1IPErBiO48J"
      },
      "source": [
        "a = 10"
      ],
      "execution_count": null,
      "outputs": []
    },
    {
      "cell_type": "code",
      "metadata": {
        "colab": {
          "base_uri": "https://localhost:8080/"
        },
        "id": "P0_raqfFPAnd",
        "outputId": "f93c8be4-1a3c-4a65-dfa0-e5c8bbf89a36"
      },
      "source": [
        "print(a)"
      ],
      "execution_count": null,
      "outputs": [
        {
          "output_type": "stream",
          "text": [
            "10\n"
          ],
          "name": "stdout"
        }
      ]
    },
    {
      "cell_type": "code",
      "metadata": {
        "id": "qLY5u75XQRzP",
        "colab": {
          "base_uri": "https://localhost:8080/"
        },
        "outputId": "ed61d280-e4e5-4f56-f74f-f62a147a3a96"
      },
      "source": [
        "b = 10.\n",
        "print(b)"
      ],
      "execution_count": null,
      "outputs": [
        {
          "output_type": "stream",
          "text": [
            "10.0\n"
          ],
          "name": "stdout"
        }
      ]
    },
    {
      "cell_type": "markdown",
      "metadata": {
        "id": "tg1gNfgKU77R"
      },
      "source": [
        "ตัวอักษร (char ย่อมาจาก character) ข้อความ (text หรือ string)"
      ]
    },
    {
      "cell_type": "markdown",
      "metadata": {
        "id": "KsF6giXpUxnq"
      },
      "source": [
        ".. # hastag, sharp ใช้สำหรับ comment"
      ]
    },
    {
      "cell_type": "code",
      "metadata": {
        "colab": {
          "base_uri": "https://localhost:8080/"
        },
        "id": "wVOnAY44U2sr",
        "outputId": "7aba02f3-4741-4114-85b2-48f2c11900a4"
      },
      "source": [
        "c = 'สุวรรจณี' # เราจะบอกว่าตัวแปรเป็นตัวอักษรหรือข้อความโดยการใช้ single quote ' หรือ double quote \" ล้อมรอบ\n",
        "print(c)"
      ],
      "execution_count": 1,
      "outputs": [
        {
          "output_type": "stream",
          "text": [
            "สุวรรจณี\n"
          ],
          "name": "stdout"
        }
      ]
    },
    {
      "cell_type": "markdown",
      "metadata": {
        "id": "qsSf_aQgRQHe"
      },
      "source": [
        "ตัวเลขที่เป็น string ไม่สามารถเอามาบวก ลบ คูณ หารกับตัวเลขได้"
      ]
    },
    {
      "cell_type": "code",
      "metadata": {
        "colab": {
          "base_uri": "https://localhost:8080/"
        },
        "id": "r6bUMPVCRdKy",
        "outputId": "7a437a48-41a8-401e-c936-07b9d22fa315"
      },
      "source": [
        "d = '10'\n",
        "print(d)"
      ],
      "execution_count": null,
      "outputs": [
        {
          "output_type": "stream",
          "text": [
            "10\n"
          ],
          "name": "stdout"
        }
      ]
    },
    {
      "cell_type": "code",
      "metadata": {
        "colab": {
          "base_uri": "https://localhost:8080/",
          "height": 164
        },
        "id": "V1Gxu8XHW0zu",
        "outputId": "e7a57023-e1cf-4e94-f628-903c05b89940"
      },
      "source": [
        "d + 1"
      ],
      "execution_count": null,
      "outputs": [
        {
          "output_type": "error",
          "ename": "TypeError",
          "evalue": "ignored",
          "traceback": [
            "\u001b[0;31m---------------------------------------------------------------------------\u001b[0m",
            "\u001b[0;31mTypeError\u001b[0m                                 Traceback (most recent call last)",
            "\u001b[0;32m<ipython-input-4-2d39be9af043>\u001b[0m in \u001b[0;36m<module>\u001b[0;34m()\u001b[0m\n\u001b[0;32m----> 1\u001b[0;31m \u001b[0md\u001b[0m \u001b[0;34m+\u001b[0m \u001b[0;36m1\u001b[0m\u001b[0;34m\u001b[0m\u001b[0;34m\u001b[0m\u001b[0m\n\u001b[0m",
            "\u001b[0;31mTypeError\u001b[0m: must be str, not int"
          ]
        }
      ]
    },
    {
      "cell_type": "markdown",
      "metadata": {
        "id": "or6-kQP1Ru9N"
      },
      "source": [
        "variable casting (การเปลี่ยนชนิดของข้อมูล)"
      ]
    },
    {
      "cell_type": "code",
      "metadata": {
        "colab": {
          "base_uri": "https://localhost:8080/"
        },
        "id": "Jo-9F25IXKQ5",
        "outputId": "3cd2c413-a195-4661-ed76-f4baefea654d"
      },
      "source": [
        "int(d)+1"
      ],
      "execution_count": null,
      "outputs": [
        {
          "output_type": "execute_result",
          "data": {
            "text/plain": [
              "11"
            ]
          },
          "metadata": {
            "tags": []
          },
          "execution_count": 5
        }
      ]
    },
    {
      "cell_type": "code",
      "metadata": {
        "colab": {
          "base_uri": "https://localhost:8080/"
        },
        "id": "7cnXUxvCXPXq",
        "outputId": "f1759e00-2e5c-46e8-c783-7ae844eb0737"
      },
      "source": [
        "print(a)\n",
        "print(float(a))\n",
        "print(str(a))"
      ],
      "execution_count": null,
      "outputs": [
        {
          "output_type": "stream",
          "text": [
            "10\n",
            "10.0\n",
            "10\n"
          ],
          "name": "stdout"
        }
      ]
    },
    {
      "cell_type": "markdown",
      "metadata": {
        "id": "JxCUxBmuXihG"
      },
      "source": [
        "Operation \n",
        "การบวก ลบ คูณหาร คือการ Operators (การดำเนินการ) "
      ]
    },
    {
      "cell_type": "code",
      "metadata": {
        "colab": {
          "base_uri": "https://localhost:8080/"
        },
        "id": "r5tkpvzgZxs4",
        "outputId": "f1540d2a-17b1-4ab0-8e3c-e71cc1dd89ce"
      },
      "source": [
        "a+b"
      ],
      "execution_count": null,
      "outputs": [
        {
          "output_type": "execute_result",
          "data": {
            "text/plain": [
              "20.0"
            ]
          },
          "metadata": {
            "tags": []
          },
          "execution_count": 35
        }
      ]
    },
    {
      "cell_type": "code",
      "metadata": {
        "colab": {
          "base_uri": "https://localhost:8080/"
        },
        "id": "fbLgZVQTZ8Ev",
        "outputId": "b1f4a3b7-9a89-45a8-e7e3-8694e051c7e2"
      },
      "source": [
        "ab = a+b\n",
        "print(ab)"
      ],
      "execution_count": null,
      "outputs": [
        {
          "output_type": "stream",
          "text": [
            "20.0\n"
          ],
          "name": "stdout"
        }
      ]
    },
    {
      "cell_type": "markdown",
      "metadata": {
        "id": "kVH230DSaKE2"
      },
      "source": [
        "% คือ การหารเอาเศษ (modulo)"
      ]
    },
    {
      "cell_type": "code",
      "metadata": {
        "colab": {
          "base_uri": "https://localhost:8080/"
        },
        "id": "I9E9gdZMaZFO",
        "outputId": "b5a2206a-9a5a-4f0e-968c-71c87d572ae8"
      },
      "source": [
        "5%3"
      ],
      "execution_count": null,
      "outputs": [
        {
          "output_type": "execute_result",
          "data": {
            "text/plain": [
              "2"
            ]
          },
          "metadata": {
            "tags": []
          },
          "execution_count": 12
        }
      ]
    },
    {
      "cell_type": "code",
      "metadata": {
        "colab": {
          "base_uri": "https://localhost:8080/"
        },
        "id": "BtIkgduaaeH7",
        "outputId": "dafec3b4-754a-4c78-d164-1c75d75c6a15"
      },
      "source": [
        "7%3"
      ],
      "execution_count": null,
      "outputs": [
        {
          "output_type": "execute_result",
          "data": {
            "text/plain": [
              "1"
            ]
          },
          "metadata": {
            "tags": []
          },
          "execution_count": 13
        }
      ]
    },
    {
      "cell_type": "markdown",
      "metadata": {
        "id": "GRAcW8QVahdg"
      },
      "source": [
        "### คำสั่ง print แบบพิเศษ คือ การ format string"
      ]
    },
    {
      "cell_type": "code",
      "metadata": {
        "colab": {
          "base_uri": "https://localhost:8080/"
        },
        "id": "C6offl4Taugj",
        "outputId": "8e782162-8e79-4f13-ef33-4d62298a2150"
      },
      "source": [
        "print('ตัวแปร') #สิ่งที่อยู่ข้างในวงเล็บ คือ ตัวแปร และ string"
      ],
      "execution_count": null,
      "outputs": [
        {
          "output_type": "stream",
          "text": [
            "ตัวแปร\n"
          ],
          "name": "stdout"
        }
      ]
    },
    {
      "cell_type": "code",
      "metadata": {
        "colab": {
          "base_uri": "https://localhost:8080/"
        },
        "id": "uZyHoYDUbEZk",
        "outputId": "1821d119-5ce2-4dfa-e586-8f3766574b2b"
      },
      "source": [
        "print(f'% คือการหารเอาเศษ เช่น 7%3 = {7%3}') #เพิ่ม f ข้างหน้า 'string' และใช้ {} ใส่ code"
      ],
      "execution_count": null,
      "outputs": [
        {
          "output_type": "stream",
          "text": [
            "% คือการหารเอาเศษ เช่น 7%3 = 1\n"
          ],
          "name": "stdout"
        }
      ]
    },
    {
      "cell_type": "code",
      "metadata": {
        "colab": {
          "base_uri": "https://localhost:8080/"
        },
        "id": "v1DT6bNGbs0i",
        "outputId": "5c62b717-fe55-4d5a-aa18-01fbf68db3cd"
      },
      "source": [
        "print(f'% คือ การหารเอาเศษ เช่น 7%3 = {7%3} แต่ \\n/ คือ การหารปกติ เช่น 7/3 = {7/3} และ \\n// คือการหารเอาส่วน เช่น 7//3 = {7//3} หรือ \\nใช้ int() เพื่อหารเอาส่วน เช่น (7/3) = {int(7/3)}') # \\n คือ การขึ้นบรรทัดใหม่ เว้นวรรคแล้วก็ \\\\ ใช้ในการตัด code แต่คอมจะไม่เห็น"
      ],
      "execution_count": null,
      "outputs": [
        {
          "output_type": "stream",
          "text": [
            "% คือ การหารเอาเศษ เช่น 7%3 = 1 \\แต่ \n",
            "/ คือ การหารปกติ เช่น 7/3 = 2.3333333333333335 และ \n",
            "// คือการหารเอาส่วน เช่น 7//3 = 2 หรือ \n",
            "ใช้ int() เพื่อหารเอาส่วน เช่น (7/3) = 2\n"
          ],
          "name": "stdout"
        }
      ]
    },
    {
      "cell_type": "markdown",
      "metadata": {
        "id": "CjjXFK9A6zqI"
      },
      "source": [
        "### DATA STRUCTURE (โครงสร้างข้อมูล)"
      ]
    },
    {
      "cell_type": "markdown",
      "metadata": {
        "id": "vdCyv3bO7c17"
      },
      "source": [
        "### list คือ การเอาตัวแปรหลายๆตัวมาเรียงต่อกัน\n",
        "### list สามารถสร้างได้ 2 แบบ"
      ]
    },
    {
      "cell_type": "markdown",
      "metadata": {
        "id": "iLN-cvuc8NHK"
      },
      "source": [
        "### แบบที่ 1 เครื่องหมาย square brackets >> []"
      ]
    },
    {
      "cell_type": "code",
      "metadata": {
        "colab": {
          "base_uri": "https://localhost:8080/"
        },
        "id": "9uEV0SZA8ejz",
        "outputId": "6c9964ed-4558-44c2-a8bd-ecf33fb62b67"
      },
      "source": [
        "list_a = []\n",
        "print(list_a)"
      ],
      "execution_count": null,
      "outputs": [
        {
          "output_type": "stream",
          "text": [
            "[]\n"
          ],
          "name": "stdout"
        }
      ]
    },
    {
      "cell_type": "code",
      "metadata": {
        "colab": {
          "base_uri": "https://localhost:8080/"
        },
        "id": "faQ01XF08iRQ",
        "outputId": "5b0ea432-3440-4548-f0f6-5399f340ab43"
      },
      "source": [
        "list_b = [1,5,'v']\n",
        "print(list_b)"
      ],
      "execution_count": null,
      "outputs": [
        {
          "output_type": "stream",
          "text": [
            "[1, 5, 'v']\n"
          ],
          "name": "stdout"
        }
      ]
    },
    {
      "cell_type": "markdown",
      "metadata": {
        "id": "epUnPE9O84My"
      },
      "source": [
        "### ลำดับที่อยู่ใน list มีความสำคัญ (ลำดับใน list เริ่มจาก 0,1,2,...)"
      ]
    },
    {
      "cell_type": "code",
      "metadata": {
        "colab": {
          "base_uri": "https://localhost:8080/"
        },
        "id": "6SECghIO8zH5",
        "outputId": "d6b4edd4-3501-449c-97d2-b78b5c860596"
      },
      "source": [
        "list_b[1]"
      ],
      "execution_count": null,
      "outputs": [
        {
          "output_type": "execute_result",
          "data": {
            "text/plain": [
              "5"
            ]
          },
          "metadata": {
            "tags": []
          },
          "execution_count": 40
        }
      ]
    },
    {
      "cell_type": "markdown",
      "metadata": {
        "id": "kM0fKAw49clo"
      },
      "source": [
        "### แบบที่ 2"
      ]
    },
    {
      "cell_type": "code",
      "metadata": {
        "colab": {
          "base_uri": "https://localhost:8080/"
        },
        "id": "rh1i7ZDr9b7s",
        "outputId": "2d16ed1e-5d42-4a51-b407-031982ec1849"
      },
      "source": [
        "list_c = list()\n",
        "print(list_c)"
      ],
      "execution_count": null,
      "outputs": [
        {
          "output_type": "stream",
          "text": [
            "[]\n"
          ],
          "name": "stdout"
        }
      ]
    },
    {
      "cell_type": "markdown",
      "metadata": {
        "id": "UukXIU9s9waE"
      },
      "source": [
        "### append() คือ การเพิ่มสมาชิกเข้าไปใน list"
      ]
    },
    {
      "cell_type": "code",
      "metadata": {
        "colab": {
          "base_uri": "https://localhost:8080/",
          "height": 215
        },
        "id": "uPDV2-GT94KS",
        "outputId": "8aa21cce-109b-4de6-da5b-01de43b3bd34"
      },
      "source": [
        "list_b.append('u')\n",
        "print(list_b)"
      ],
      "execution_count": null,
      "outputs": [
        {
          "output_type": "error",
          "ename": "NameError",
          "evalue": "ignored",
          "traceback": [
            "\u001b[0;31m---------------------------------------------------------------------------\u001b[0m",
            "\u001b[0;31mNameError\u001b[0m                                 Traceback (most recent call last)",
            "\u001b[0;32m<ipython-input-2-d15bfa80693d>\u001b[0m in \u001b[0;36m<module>\u001b[0;34m()\u001b[0m\n\u001b[0;32m----> 1\u001b[0;31m \u001b[0mlist_b\u001b[0m\u001b[0;34m.\u001b[0m\u001b[0mappend\u001b[0m\u001b[0;34m(\u001b[0m\u001b[0;34m'u'\u001b[0m\u001b[0;34m)\u001b[0m\u001b[0;34m\u001b[0m\u001b[0;34m\u001b[0m\u001b[0m\n\u001b[0m\u001b[1;32m      2\u001b[0m \u001b[0mprint\u001b[0m\u001b[0;34m(\u001b[0m\u001b[0mlist_b\u001b[0m\u001b[0;34m)\u001b[0m\u001b[0;34m\u001b[0m\u001b[0;34m\u001b[0m\u001b[0m\n",
            "\u001b[0;31mNameError\u001b[0m: name 'list_b' is not defined"
          ]
        }
      ]
    },
    {
      "cell_type": "code",
      "metadata": {
        "colab": {
          "base_uri": "https://localhost:8080/",
          "height": 198
        },
        "id": "p8p7c1sa-F-X",
        "outputId": "0bcc0980-7a39-4e37-8029-bcd5ba95b555"
      },
      "source": [
        "list_b.pop() #คือการดึงสมาชิกตัวสุดท้ายออกจาก list"
      ],
      "execution_count": null,
      "outputs": [
        {
          "output_type": "error",
          "ename": "NameError",
          "evalue": "ignored",
          "traceback": [
            "\u001b[0;31m---------------------------------------------------------------------------\u001b[0m",
            "\u001b[0;31mNameError\u001b[0m                                 Traceback (most recent call last)",
            "\u001b[0;32m<ipython-input-3-665f0c15cf6f>\u001b[0m in \u001b[0;36m<module>\u001b[0;34m()\u001b[0m\n\u001b[0;32m----> 1\u001b[0;31m \u001b[0mlist_b\u001b[0m\u001b[0;34m.\u001b[0m\u001b[0mpop\u001b[0m\u001b[0;34m(\u001b[0m\u001b[0;34m)\u001b[0m \u001b[0;31m#คือการดึงสมาชิกตัวสุดท้ายออกจาก list\u001b[0m\u001b[0;34m\u001b[0m\u001b[0;34m\u001b[0m\u001b[0m\n\u001b[0m",
            "\u001b[0;31mNameError\u001b[0m: name 'list_b' is not defined"
          ]
        }
      ]
    },
    {
      "cell_type": "code",
      "metadata": {
        "id": "tpZDLviO-WSq"
      },
      "source": [
        "list_b"
      ],
      "execution_count": null,
      "outputs": []
    },
    {
      "cell_type": "code",
      "metadata": {
        "id": "7tSsZBDS-emb"
      },
      "source": [
        "list_b.append(list_a)\n",
        "print(list_b)"
      ],
      "execution_count": null,
      "outputs": []
    },
    {
      "cell_type": "markdown",
      "metadata": {
        "id": "GBmYQt4kCJYe"
      },
      "source": [
        "### String > list of characters"
      ]
    },
    {
      "cell_type": "code",
      "metadata": {
        "colab": {
          "base_uri": "https://localhost:8080/",
          "height": 37
        },
        "id": "ajZOtlv-CQdW",
        "outputId": "e002af38-5380-4dfe-b000-087324b6776a"
      },
      "source": [
        "t = 'python is easy'\n",
        "t"
      ],
      "execution_count": null,
      "outputs": [
        {
          "output_type": "execute_result",
          "data": {
            "application/vnd.google.colaboratory.intrinsic+json": {
              "type": "string"
            },
            "text/plain": [
              "'python is easy'"
            ]
          },
          "metadata": {
            "tags": []
          },
          "execution_count": 4
        }
      ]
    },
    {
      "cell_type": "code",
      "metadata": {
        "colab": {
          "base_uri": "https://localhost:8080/"
        },
        "id": "PBJAfKmhCap5",
        "outputId": "a4f53533-8c2c-44d2-87e2-7c55b5e1f7a7"
      },
      "source": [
        "len(list_b) # len คือ คำสั่งตรวจสอบความยาวของ list (จำนวนสมาชิก)"
      ],
      "execution_count": null,
      "outputs": [
        {
          "output_type": "execute_result",
          "data": {
            "text/plain": [
              "4"
            ]
          },
          "metadata": {
            "tags": []
          },
          "execution_count": 49
        }
      ]
    },
    {
      "cell_type": "code",
      "metadata": {
        "colab": {
          "base_uri": "https://localhost:8080/"
        },
        "id": "hmwsnUjnC5hy",
        "outputId": "4c1fb68a-ef2e-4788-f7b8-e47308e26b15"
      },
      "source": [
        "len(t)"
      ],
      "execution_count": null,
      "outputs": [
        {
          "output_type": "execute_result",
          "data": {
            "text/plain": [
              "14"
            ]
          },
          "metadata": {
            "tags": []
          },
          "execution_count": 50
        }
      ]
    },
    {
      "cell_type": "markdown",
      "metadata": {
        "id": "2JpbUygaDPVT"
      },
      "source": [
        "### access a member of a list (list&string) โดยจะเริ่มนับจากจาก 0\n",
        "### 0 คือ สมาชิกตัวแรก , -1 คือ สมาชิกตัวสุดท้าย"
      ]
    },
    {
      "cell_type": "code",
      "metadata": {
        "colab": {
          "base_uri": "https://localhost:8080/",
          "height": 37
        },
        "id": "MIUj0fQZDyxd",
        "outputId": "631fdedf-1d9d-4e90-cc7d-a3a0bf905250"
      },
      "source": [
        "t[1]"
      ],
      "execution_count": null,
      "outputs": [
        {
          "output_type": "execute_result",
          "data": {
            "application/vnd.google.colaboratory.intrinsic+json": {
              "type": "string"
            },
            "text/plain": [
              "'y'"
            ]
          },
          "metadata": {
            "tags": []
          },
          "execution_count": 51
        }
      ]
    },
    {
      "cell_type": "code",
      "metadata": {
        "colab": {
          "base_uri": "https://localhost:8080/",
          "height": 37
        },
        "id": "4PSo-cNzD44d",
        "outputId": "2f27586b-f1b9-45ff-dfa0-0d4b1c2a9970"
      },
      "source": [
        "t[-1]"
      ],
      "execution_count": null,
      "outputs": [
        {
          "output_type": "execute_result",
          "data": {
            "application/vnd.google.colaboratory.intrinsic+json": {
              "type": "string"
            },
            "text/plain": [
              "'y'"
            ]
          },
          "metadata": {
            "tags": []
          },
          "execution_count": 52
        }
      ]
    },
    {
      "cell_type": "markdown",
      "metadata": {
        "id": "yCYmsscmELMB"
      },
      "source": [
        "### ตัวที่อยู่ข้างในเครื่องหมาย [ ] เรียกว่า index (ตัวชี้)"
      ]
    },
    {
      "cell_type": "code",
      "metadata": {
        "colab": {
          "base_uri": "https://localhost:8080/",
          "height": 37
        },
        "id": "2VfTZeQnEVYs",
        "outputId": "4700cd0e-3646-4ac9-c373-915907880857"
      },
      "source": [
        "t[-3]"
      ],
      "execution_count": null,
      "outputs": [
        {
          "output_type": "execute_result",
          "data": {
            "application/vnd.google.colaboratory.intrinsic+json": {
              "type": "string"
            },
            "text/plain": [
              "'a'"
            ]
          },
          "metadata": {
            "tags": []
          },
          "execution_count": 53
        }
      ]
    },
    {
      "cell_type": "markdown",
      "metadata": {
        "id": "TJ7ZY9woFPxm"
      },
      "source": [
        "### list slicing คือ การตัด list (สามารถทำได้โดยใช้ colon)\n",
        "### [a:b] >> [a,b)"
      ]
    },
    {
      "cell_type": "code",
      "metadata": {
        "colab": {
          "base_uri": "https://localhost:8080/"
        },
        "id": "50qWR_YVFvog",
        "outputId": "5d17ea30-5f8f-4b5c-f1ab-fdb8b3adb87a"
      },
      "source": [
        "print(t)\n",
        "print(t[7:9])"
      ],
      "execution_count": null,
      "outputs": [
        {
          "output_type": "stream",
          "text": [
            "python is easy\n",
            "is\n"
          ],
          "name": "stdout"
        }
      ]
    },
    {
      "cell_type": "markdown",
      "metadata": {
        "id": "B8U1lIfqGhDp"
      },
      "source": [
        "### ถ้าเว้นว่างหน้าเครื่องหมาย : หมายความว่าหน้าเครื่องหมาย : เอาตั้งแต่ตัวแรก\n",
        "### ถ้าเว้นว่างหลังเครื่องหมาย : หมายความว่า ไปจนถึงตัวสุดท้าย\n"
      ]
    },
    {
      "cell_type": "code",
      "metadata": {
        "colab": {
          "base_uri": "https://localhost:8080/"
        },
        "id": "tDMGP4uiGdFX",
        "outputId": "47c8fd4e-d66c-401f-df0d-5b64a569ec6a"
      },
      "source": [
        "print(t)\n",
        "print(t[:6])\n",
        "print(t[10:])\n",
        "print(t[-4:])\n",
        "print(t[:])"
      ],
      "execution_count": null,
      "outputs": [
        {
          "output_type": "stream",
          "text": [
            "python is easy\n",
            "python\n",
            "easy\n",
            "easy\n",
            "python is easy\n"
          ],
          "name": "stdout"
        }
      ]
    },
    {
      "cell_type": "code",
      "metadata": {
        "id": "vDB0RI_kajzT",
        "colab": {
          "base_uri": "https://localhost:8080/"
        },
        "outputId": "d3ed6aff-bf07-4995-e6da-d777451b9286"
      },
      "source": [
        "print(t[::2]) #แบ่ง colon เป็น2ส่วน colon ส่วนแรกเอาตั้งแต่ตัวแรกถึงตัวสุดท้าย colon ส่วนที่สองกำหนด step เช่น :2 คือ กระโดดไป2step"
      ],
      "execution_count": null,
      "outputs": [
        {
          "output_type": "stream",
          "text": [
            "pto ses\n"
          ],
          "name": "stdout"
        }
      ]
    },
    {
      "cell_type": "markdown",
      "metadata": {
        "id": "O0_NXjqTGTlw"
      },
      "source": [
        "### เราสามารถเอา list มาต่อกันได้ด้วยเครื่องหมาย +"
      ]
    },
    {
      "cell_type": "code",
      "metadata": {
        "colab": {
          "base_uri": "https://localhost:8080/",
          "height": 37
        },
        "id": "9ADtv5t0HzMI",
        "outputId": "a1a62b99-6931-4553-b8b9-d91fa28c923d"
      },
      "source": [
        "t + '??'"
      ],
      "execution_count": null,
      "outputs": [
        {
          "output_type": "execute_result",
          "data": {
            "application/vnd.google.colaboratory.intrinsic+json": {
              "type": "string"
            },
            "text/plain": [
              "'python is easy??'"
            ]
          },
          "metadata": {
            "tags": []
          },
          "execution_count": 58
        }
      ]
    },
    {
      "cell_type": "code",
      "metadata": {
        "id": "vk2NpkX8IMsi"
      },
      "source": [
        "t + list_b #ไม่สามารถเอา list มาต่อกับ string ได้"
      ],
      "execution_count": null,
      "outputs": []
    },
    {
      "cell_type": "code",
      "metadata": {
        "colab": {
          "base_uri": "https://localhost:8080/"
        },
        "id": "1BgntMnqH28_",
        "outputId": "d6988f71-9c8b-4fc6-b24f-9fdc8b357b7e"
      },
      "source": [
        "list_b + list_b"
      ],
      "execution_count": null,
      "outputs": [
        {
          "output_type": "execute_result",
          "data": {
            "text/plain": [
              "[1, 5, 'v', [], 1, 5, 'v', []]"
            ]
          },
          "metadata": {
            "tags": []
          },
          "execution_count": 60
        }
      ]
    },
    {
      "cell_type": "markdown",
      "metadata": {
        "id": "dbDqpeFCIavJ"
      },
      "source": [
        "### การแบ่ง string ตามสัญลักษณ์ที่กำหนด จะใช้คำสั่ง split string"
      ]
    },
    {
      "cell_type": "code",
      "metadata": {
        "colab": {
          "base_uri": "https://localhost:8080/"
        },
        "id": "2GoNGfc4IaPz",
        "outputId": "b2f15b81-f8e3-4cc7-d9b5-ae5b4603d431"
      },
      "source": [
        "t.split(' ')"
      ],
      "execution_count": null,
      "outputs": [
        {
          "output_type": "execute_result",
          "data": {
            "text/plain": [
              "['python', 'is', 'easy']"
            ]
          },
          "metadata": {
            "tags": []
          },
          "execution_count": 61
        }
      ]
    },
    {
      "cell_type": "code",
      "metadata": {
        "id": "GBstranjI2HD"
      },
      "source": [
        "time = '12:30:15'"
      ],
      "execution_count": null,
      "outputs": []
    },
    {
      "cell_type": "code",
      "metadata": {
        "colab": {
          "base_uri": "https://localhost:8080/"
        },
        "id": "oY50F-ZwI6Z1",
        "outputId": "a8209d99-3791-4d98-dd7b-6ea592853c0c"
      },
      "source": [
        "time.split(':')"
      ],
      "execution_count": null,
      "outputs": [
        {
          "output_type": "execute_result",
          "data": {
            "text/plain": [
              "['12', '30', '15']"
            ]
          },
          "metadata": {
            "tags": []
          },
          "execution_count": 66
        }
      ]
    },
    {
      "cell_type": "markdown",
      "metadata": {
        "id": "CbvdH1RD3Hxa"
      },
      "source": [
        "### HW คำนวณเวลาเป็นวินาทีของเวลาต่อไปนี้โดยใช้คำสั่ง sprit() ช่วย (print ออกมาให้สวยงาม)\n",
        "### 12:30:15\n",
        "### 13:41:07\n",
        "### 12:53:15\n",
        "### 00:59:25\n",
        "### 11:11:11\n",
        "### 16:06:09"
      ]
    },
    {
      "cell_type": "code",
      "metadata": {
        "colab": {
          "base_uri": "https://localhost:8080/"
        },
        "id": "nz7B_Grb3hci",
        "outputId": "e19008ef-4745-4d70-c6d4-7a4f0bffdef1"
      },
      "source": [
        "time = '12:30:15'\n",
        "t1 = time.split(':')\n",
        "h = t1[0]\n",
        "m = t1[1]\n",
        "s = t1[2]\n",
        "total_s = int(h)*60*60+int(m)*60+int(s)\n",
        "total_s = f'{time} = {total_s} วินาที'\n",
        "print(total_s)"
      ],
      "execution_count": null,
      "outputs": [
        {
          "output_type": "stream",
          "text": [
            "12:30:15 = 45015 วินาที\n"
          ],
          "name": "stdout"
        }
      ]
    },
    {
      "cell_type": "code",
      "metadata": {
        "colab": {
          "base_uri": "https://localhost:8080/"
        },
        "id": "Htgcmp4ZLCx6",
        "outputId": "1ac3b984-3537-4cfa-cb46-f55b80ca9028"
      },
      "source": [
        "time = '13:41:07'\n",
        "t2 = time.split(':')\n",
        "h = t2[0]\n",
        "m = t2[1]\n",
        "s = t2[2]\n",
        "total_s = int(h)*60*60+int(m)*60+int(s)\n",
        "total_s = f'{time} = {total_s} วินาที'\n",
        "print(total_s)"
      ],
      "execution_count": null,
      "outputs": [
        {
          "output_type": "stream",
          "text": [
            "13:41:07 = 49267 วินาที\n"
          ],
          "name": "stdout"
        }
      ]
    },
    {
      "cell_type": "code",
      "metadata": {
        "colab": {
          "base_uri": "https://localhost:8080/"
        },
        "id": "Baa9W6SCLMrc",
        "outputId": "e27d2706-9d32-422d-a82f-eac5e4fbb958"
      },
      "source": [
        "time = '12:53:15'\n",
        "t3 = time.split(':')\n",
        "h = t3[0]\n",
        "m = t3[1]\n",
        "s = t3[2]\n",
        "total_s = int(h)*60*60+int(m)*60+int(s)\n",
        "total_s = f'{time} = {total_s} วินาที'\n",
        "print(total_s)"
      ],
      "execution_count": null,
      "outputs": [
        {
          "output_type": "stream",
          "text": [
            "12:53:15 = 46395 วินาที\n"
          ],
          "name": "stdout"
        }
      ]
    },
    {
      "cell_type": "code",
      "metadata": {
        "colab": {
          "base_uri": "https://localhost:8080/"
        },
        "id": "gIYpTt_bLVRr",
        "outputId": "04c2b14c-815a-4829-a34c-e39f82d865f2"
      },
      "source": [
        "time = '00:59:25'\n",
        "t4 = time.split(':')\n",
        "h = t4[0]\n",
        "m = t4[1]\n",
        "s = t4[2]\n",
        "total_s = int(h)*60*60+int(m)*60+int(s)\n",
        "total_s = f'{time} = {total_s} วินาที'\n",
        "print(total_s)"
      ],
      "execution_count": null,
      "outputs": [
        {
          "output_type": "stream",
          "text": [
            "00:59:25 = 3565 วินาที\n"
          ],
          "name": "stdout"
        }
      ]
    },
    {
      "cell_type": "code",
      "metadata": {
        "colab": {
          "base_uri": "https://localhost:8080/"
        },
        "id": "7vo_Z3ETLgNg",
        "outputId": "8f213f7a-1f71-4ba7-b7a2-402fa1950b0c"
      },
      "source": [
        "time = '11:11:11'\n",
        "t5 = time.split(':')\n",
        "h = t5[0]\n",
        "m = t5[1]\n",
        "s = t5[2]\n",
        "total_s = int(h)*60*60+int(m)*60+int(s)\n",
        "total_s = f'{time} = {total_s} วินาที'\n",
        "print(total_s)"
      ],
      "execution_count": null,
      "outputs": [
        {
          "output_type": "stream",
          "text": [
            "11:11:11 = 40271 วินาที\n"
          ],
          "name": "stdout"
        }
      ]
    },
    {
      "cell_type": "code",
      "metadata": {
        "colab": {
          "base_uri": "https://localhost:8080/"
        },
        "id": "09m33LIILqXQ",
        "outputId": "c32b4ace-81b0-4c20-efae-0bf616b978b9"
      },
      "source": [
        "time = '16:06:09'\n",
        "t6 = time.split(':')\n",
        "h = t6[0]\n",
        "m = t6[1]\n",
        "s = t6[2]\n",
        "total_s = int(h)*60*60+int(m)*60+int(s)\n",
        "total_s = f'{time} = {total_s} วินาที'\n",
        "print(total_s)"
      ],
      "execution_count": null,
      "outputs": [
        {
          "output_type": "stream",
          "text": [
            "16:06:09 = 57969 วินาที\n"
          ],
          "name": "stdout"
        }
      ]
    },
    {
      "cell_type": "markdown",
      "metadata": {
        "id": "21frZk4IuDtz"
      },
      "source": [
        "ให้สร้างฟังก์ชันคำนวณเวลาเป็นวินาทีของเวลาใดๆ และ print ออกมาให้สวยงาม"
      ]
    },
    {
      "cell_type": "code",
      "metadata": {
        "id": "LfuKGde43CZv"
      },
      "source": [
        "def time_s(time):\n",
        "  list_time = time.split(':')\n",
        "  h = (int(list_time[0])*60*60)\n",
        "  m = (int(list_time[1])*60)\n",
        "  s = (int(list_time[2]))\n",
        "  sum = f'{time} = {h+m+s} วินาที'\n",
        "  print(sum)"
      ],
      "execution_count": null,
      "outputs": []
    },
    {
      "cell_type": "code",
      "metadata": {
        "colab": {
          "base_uri": "https://localhost:8080/"
        },
        "id": "T1-YF3_rNvyA",
        "outputId": "fef1eb87-07b6-4426-df71-1a9e721ddd7f"
      },
      "source": [
        "time_s('12:30:15')\n",
        "time_s('13:41:07')\n",
        "time_s('12:53:15')\n",
        "time_s('00:59:25')\n",
        "time_s('11:11:11')\n",
        "time_s('16:06:09')"
      ],
      "execution_count": null,
      "outputs": [
        {
          "output_type": "stream",
          "text": [
            "12:30:15 = 45015 วินาที\n",
            "13:41:07 = 49267 วินาที\n",
            "12:53:15 = 46395 วินาที\n",
            "00:59:25 = 3565 วินาที\n",
            "11:11:11 = 40271 วินาที\n",
            "16:06:09 = 57969 วินาที\n"
          ],
          "name": "stdout"
        }
      ]
    },
    {
      "cell_type": "markdown",
      "metadata": {
        "id": "AyUMjUQk3BA4"
      },
      "source": [
        "### ให้สร้าง list ของเวลา\n",
        "### 12:30:15\n",
        "### 13:41:07\n",
        "### 12:53:15\n",
        "### 00:59:25\n",
        "### 11:11:11\n",
        "### 16:06:09\n",
        "### แล้ววนลูปเรียกฟังก์ชันคำนวณเวลาเป็นวินาที\n",
        "\n"
      ]
    },
    {
      "cell_type": "code",
      "metadata": {
        "id": "hwUrkb62TeXf",
        "colab": {
          "base_uri": "https://localhost:8080/"
        },
        "outputId": "b2cbd215-c487-488a-baaf-22b25c09f19c"
      },
      "source": [
        "for all_s in ['12:30:15','13:41:07','12:53:15','00:59:25','11:11:11','16:06:09'] :\n",
        "  time_s(all_s)"
      ],
      "execution_count": null,
      "outputs": [
        {
          "output_type": "stream",
          "text": [
            "12:30:15 = 45015 วินาที\n",
            "13:41:07 = 49267 วินาที\n",
            "12:53:15 = 46395 วินาที\n",
            "00:59:25 = 3565 วินาที\n",
            "11:11:11 = 40271 วินาที\n",
            "16:06:09 = 57969 วินาที\n"
          ],
          "name": "stdout"
        }
      ]
    }
  ]
}