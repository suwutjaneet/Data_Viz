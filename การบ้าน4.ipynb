{
  "nbformat": 4,
  "nbformat_minor": 0,
  "metadata": {
    "colab": {
      "name": "การบ้าน4",
      "provenance": [],
      "authorship_tag": "ABX9TyOQjnFG+eWrwBMSaXHRJPsu",
      "include_colab_link": true
    },
    "kernelspec": {
      "name": "python3",
      "display_name": "Python 3"
    }
  },
  "cells": [
    {
      "cell_type": "markdown",
      "metadata": {
        "id": "view-in-github",
        "colab_type": "text"
      },
      "source": [
        "<a href=\"https://colab.research.google.com/github/suwutjaneet/Data_Viz/blob/main/%E0%B8%81%E0%B8%B2%E0%B8%A3%E0%B8%9A%E0%B9%89%E0%B8%B2%E0%B8%994.ipynb\" target=\"_parent\"><img src=\"https://colab.research.google.com/assets/colab-badge.svg\" alt=\"Open In Colab\"/></a>"
      ]
    },
    {
      "cell_type": "code",
      "metadata": {
        "id": "kEkiW-dRpcu9"
      },
      "source": [
        "def grade (score) :\n",
        "  if 0 <= score < 50 : \n",
        "    print (f' Grade = F')\n",
        "  elif 50 <= score< 55 :\n",
        "    print (f'Grade = D')\n",
        "  elif 55 <= score< 60 :\n",
        "    print (f' Grade = D+')\n",
        "  elif 60 <= score< 65 :\n",
        "    print (f' Grade = C')\n",
        "  elif 65 <= score< 70 :\n",
        "    print (f' Grade = C+')\n",
        "  elif 70 <= score< 75 :\n",
        "    print (f' Grade = B')\n",
        "  elif 75 <= score< 80 :\n",
        "    print (f' Grade = B+')\n",
        "  elif 100<score :\n",
        "    print (f' error')\n",
        "  elif 0 >score :\n",
        "    print (f' error')\n",
        "  else :\n",
        "    print (f'Grade = A')"
      ],
      "execution_count": 12,
      "outputs": []
    },
    {
      "cell_type": "code",
      "metadata": {
        "colab": {
          "base_uri": "https://localhost:8080/"
        },
        "id": "imLP4Bq2pjwz",
        "outputId": "91ab58df-49d9-48f7-8838-4f36ef0068d2"
      },
      "source": [
        "grade(1)\n",
        "grade(50)\n",
        "grade(65)\n",
        "grade(90)\n",
        "grade(101)\n",
        "grade(-5)\n",
        "grade(49)"
      ],
      "execution_count": 14,
      "outputs": [
        {
          "output_type": "stream",
          "text": [
            " Grade = F\n",
            "Grade = D\n",
            " Grade = C+\n",
            "Grade = A\n",
            " error\n",
            " error\n",
            " Grade = F\n"
          ],
          "name": "stdout"
        }
      ]
    }
  ]
}