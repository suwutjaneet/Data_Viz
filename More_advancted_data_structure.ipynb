{
  "nbformat": 4,
  "nbformat_minor": 0,
  "metadata": {
    "colab": {
      "name": "More advancted data structure",
      "provenance": [],
      "authorship_tag": "ABX9TyNidVTzlccaIQf0PwlWfWK+",
      "include_colab_link": true
    },
    "kernelspec": {
      "name": "python3",
      "display_name": "Python 3"
    }
  },
  "cells": [
    {
      "cell_type": "markdown",
      "metadata": {
        "id": "view-in-github",
        "colab_type": "text"
      },
      "source": [
        "<a href=\"https://colab.research.google.com/github/suwutjaneet/Data_Viz/blob/main/More_advancted_data_structure.ipynb\" target=\"_parent\"><img src=\"https://colab.research.google.com/assets/colab-badge.svg\" alt=\"Open In Colab\"/></a>"
      ]
    },
    {
      "cell_type": "code",
      "metadata": {
        "id": "VxfU1lWaMxC0"
      },
      "source": [
        "ex_dict = {'a':10, '1':1, 'stat':5} "
      ],
      "execution_count": 3,
      "outputs": []
    },
    {
      "cell_type": "code",
      "metadata": {
        "colab": {
          "base_uri": "https://localhost:8080/"
        },
        "id": "r1ldO3Y9NUF0",
        "outputId": "63bcb4d3-143d-4478-f20f-d106b6298705"
      },
      "source": [
        "ex_dict['stat']"
      ],
      "execution_count": 4,
      "outputs": [
        {
          "output_type": "execute_result",
          "data": {
            "text/plain": [
              "5"
            ]
          },
          "metadata": {
            "tags": []
          },
          "execution_count": 4
        }
      ]
    },
    {
      "cell_type": "code",
      "metadata": {
        "id": "jUIW8RiBNYCb"
      },
      "source": [
        "ex2_dict = {1:'one', 2:'two', 3:'three'}"
      ],
      "execution_count": 6,
      "outputs": []
    },
    {
      "cell_type": "code",
      "metadata": {
        "colab": {
          "base_uri": "https://localhost:8080/",
          "height": 38
        },
        "id": "UC_BJBPdNbxr",
        "outputId": "f220d0ed-157d-42f4-db1e-0b4157c93730"
      },
      "source": [
        "ex2_dict[2]"
      ],
      "execution_count": 7,
      "outputs": [
        {
          "output_type": "execute_result",
          "data": {
            "application/vnd.google.colaboratory.intrinsic+json": {
              "type": "string"
            },
            "text/plain": [
              "'two'"
            ]
          },
          "metadata": {
            "tags": []
          },
          "execution_count": 7
        }
      ]
    },
    {
      "cell_type": "code",
      "metadata": {
        "id": "7r2rwFU9Nh8Q"
      },
      "source": [
        "ex2_dict[0] = 'zero'"
      ],
      "execution_count": 10,
      "outputs": []
    },
    {
      "cell_type": "code",
      "metadata": {
        "colab": {
          "base_uri": "https://localhost:8080/"
        },
        "id": "Kc1_yrdvNpLm",
        "outputId": "a2c3cf23-9706-4782-cad2-92c3570c332e"
      },
      "source": [
        "ex2_dict"
      ],
      "execution_count": 11,
      "outputs": [
        {
          "output_type": "execute_result",
          "data": {
            "text/plain": [
              "{0: 'zero', 1: 'one', 2: 'two', 3: 'three'}"
            ]
          },
          "metadata": {
            "tags": []
          },
          "execution_count": 11
        }
      ]
    },
    {
      "cell_type": "code",
      "metadata": {
        "colab": {
          "base_uri": "https://localhost:8080/"
        },
        "id": "xHCUQmu3NtGs",
        "outputId": "a31e4031-6a73-449b-c237-e950a2f011fa"
      },
      "source": [
        "ex2_dict.keys()"
      ],
      "execution_count": 12,
      "outputs": [
        {
          "output_type": "execute_result",
          "data": {
            "text/plain": [
              "dict_keys([1, 2, 3, 0])"
            ]
          },
          "metadata": {
            "tags": []
          },
          "execution_count": 12
        }
      ]
    },
    {
      "cell_type": "code",
      "metadata": {
        "colab": {
          "base_uri": "https://localhost:8080/"
        },
        "id": "BHkT9AlZNxaN",
        "outputId": "c65ef5fc-34b2-45de-d360-e28285eac997"
      },
      "source": [
        "for index in ex2_dict.keys():\n",
        "  print(index)"
      ],
      "execution_count": 13,
      "outputs": [
        {
          "output_type": "stream",
          "text": [
            "1\n",
            "2\n",
            "3\n",
            "0\n"
          ],
          "name": "stdout"
        }
      ]
    },
    {
      "cell_type": "code",
      "metadata": {
        "colab": {
          "base_uri": "https://localhost:8080/"
        },
        "id": "tzTsmt-EN0tF",
        "outputId": "cdd0f829-ee92-4c5a-a158-fb06ea501c5f"
      },
      "source": [
        "\n",
        "ex2_dict.values()"
      ],
      "execution_count": 14,
      "outputs": [
        {
          "output_type": "execute_result",
          "data": {
            "text/plain": [
              "dict_values(['one', 'two', 'three', 'zero'])"
            ]
          },
          "metadata": {
            "tags": []
          },
          "execution_count": 14
        }
      ]
    },
    {
      "cell_type": "code",
      "metadata": {
        "colab": {
          "base_uri": "https://localhost:8080/"
        },
        "id": "Ah0gh-WQN35r",
        "outputId": "ccd5a316-a892-4d24-eee8-2bea93de0079"
      },
      "source": [
        "\n",
        "for values in ex2_dict.values():\n",
        "  print(values)"
      ],
      "execution_count": 15,
      "outputs": [
        {
          "output_type": "stream",
          "text": [
            "one\n",
            "two\n",
            "three\n",
            "zero\n"
          ],
          "name": "stdout"
        }
      ]
    },
    {
      "cell_type": "code",
      "metadata": {
        "id": "kNB1LtmWN7z1"
      },
      "source": [
        "import numpy #เรียกใช้งาน package"
      ],
      "execution_count": 16,
      "outputs": []
    },
    {
      "cell_type": "code",
      "metadata": {
        "colab": {
          "base_uri": "https://localhost:8080/"
        },
        "id": "CMO490YvOJ8g",
        "outputId": "b127bd3c-53c4-47a7-b617-42ac7a059cd0"
      },
      "source": [
        "\n",
        "ex2_2d_array = numpy.array([[5.2,3.0,4.5],[9.1,0.1,0.3]])\n",
        "print(ex2_2d_array)"
      ],
      "execution_count": 20,
      "outputs": [
        {
          "output_type": "stream",
          "text": [
            "[[5.2 3.  4.5]\n",
            " [9.1 0.1 0.3]]\n"
          ],
          "name": "stdout"
        }
      ]
    },
    {
      "cell_type": "code",
      "metadata": {
        "id": "8y_i33MAOW6j"
      },
      "source": [
        "ex_2d_array[1,2]"
      ],
      "execution_count": null,
      "outputs": []
    },
    {
      "cell_type": "code",
      "metadata": {
        "colab": {
          "base_uri": "https://localhost:8080/"
        },
        "id": "DF1-1IwdOeSs",
        "outputId": "84c8a7e9-3ae6-4adb-c5ec-61d9bb886542"
      },
      "source": [
        "list_x = [[5.2,3.2,4.5],[9.1,0.1,0.3]] #การชี้ list\n",
        "print(len(list_x)) #ดูว่ามีสมาชิกกี่ตัว\n",
        "print(list_x[1])\n",
        "print(list_x[1][2])"
      ],
      "execution_count": 26,
      "outputs": [
        {
          "output_type": "stream",
          "text": [
            "2\n",
            "[9.1, 0.1, 0.3]\n",
            "0.3\n"
          ],
          "name": "stdout"
        }
      ]
    },
    {
      "cell_type": "code",
      "metadata": {
        "colab": {
          "base_uri": "https://localhost:8080/"
        },
        "id": "UofQJrUXOkNF",
        "outputId": "97bf8503-0ac3-498f-df84-5d26297d6e3b"
      },
      "source": [
        "ex2_2d_array = numpy.array([[1,0,0],[0,0,1]])\n",
        "print(ex2_2d_array)\n",
        "print(ex2_2d_array)"
      ],
      "execution_count": 29,
      "outputs": [
        {
          "output_type": "stream",
          "text": [
            "[[1 0 0]\n",
            " [0 0 1]]\n",
            "[[1 0 0]\n",
            " [0 0 1]]\n"
          ],
          "name": "stdout"
        }
      ]
    },
    {
      "cell_type": "code",
      "metadata": {
        "colab": {
          "base_uri": "https://localhost:8080/",
          "height": 171
        },
        "id": "5SLkJXUTOzky",
        "outputId": "de3b8ea0-feb1-4b6d-bc81-a6cb367a8ba6"
      },
      "source": [
        "ex_2d_array + ex2_2d_array"
      ],
      "execution_count": 30,
      "outputs": [
        {
          "output_type": "error",
          "ename": "NameError",
          "evalue": "ignored",
          "traceback": [
            "\u001b[0;31m---------------------------------------------------------------------------\u001b[0m",
            "\u001b[0;31mNameError\u001b[0m                                 Traceback (most recent call last)",
            "\u001b[0;32m<ipython-input-30-befb96d09ea3>\u001b[0m in \u001b[0;36m<module>\u001b[0;34m()\u001b[0m\n\u001b[0;32m----> 1\u001b[0;31m \u001b[0mex_2d_array\u001b[0m \u001b[0;34m+\u001b[0m \u001b[0mex2_2d_array\u001b[0m\u001b[0;34m\u001b[0m\u001b[0;34m\u001b[0m\u001b[0m\n\u001b[0m",
            "\u001b[0;31mNameError\u001b[0m: name 'ex_2d_array' is not defined"
          ]
        }
      ]
    },
    {
      "cell_type": "code",
      "metadata": {
        "colab": {
          "base_uri": "https://localhost:8080/"
        },
        "id": "WMh4VUe4O5OH",
        "outputId": "c0e369d3-ee03-4621-b16a-0ca2141210a5"
      },
      "source": [
        "list_x = [[5.2,3.0,4.5],[9.1,0.1,0.3]]\n",
        "list_x2 = [[1,0,0],[0,0,1]]\n",
        "list_x + list_x2"
      ],
      "execution_count": 31,
      "outputs": [
        {
          "output_type": "execute_result",
          "data": {
            "text/plain": [
              "[[5.2, 3.0, 4.5], [9.1, 0.1, 0.3], [1, 0, 0], [0, 0, 1]]"
            ]
          },
          "metadata": {
            "tags": []
          },
          "execution_count": 31
        }
      ]
    },
    {
      "cell_type": "code",
      "metadata": {
        "colab": {
          "base_uri": "https://localhost:8080/"
        },
        "id": "F8Kxu4-sPBMo",
        "outputId": "0841c5be-d5d0-41a0-b257-01e6bf5bf7a3"
      },
      "source": [
        "ex2_2d_array * ex2_2d_array #การคูณแบบ array คือเอาตำแหน่งเดียวกันมาคูณกัน ต่างจาก การคูณ matrix"
      ],
      "execution_count": 32,
      "outputs": [
        {
          "output_type": "execute_result",
          "data": {
            "text/plain": [
              "array([[1, 0, 0],\n",
              "       [0, 0, 1]])"
            ]
          },
          "metadata": {
            "tags": []
          },
          "execution_count": 32
        }
      ]
    },
    {
      "cell_type": "code",
      "metadata": {
        "colab": {
          "base_uri": "https://localhost:8080/",
          "height": 207
        },
        "id": "pWN93okPPE7u",
        "outputId": "f96d360c-740c-493e-8668-6d9150bd5d18"
      },
      "source": [
        "numpy.dot(ex2_2d_array, ex2_2d_array)"
      ],
      "execution_count": 33,
      "outputs": [
        {
          "output_type": "error",
          "ename": "ValueError",
          "evalue": "ignored",
          "traceback": [
            "\u001b[0;31m---------------------------------------------------------------------------\u001b[0m",
            "\u001b[0;31mValueError\u001b[0m                                Traceback (most recent call last)",
            "\u001b[0;32m<ipython-input-33-c0398b3f336d>\u001b[0m in \u001b[0;36m<module>\u001b[0;34m()\u001b[0m\n\u001b[0;32m----> 1\u001b[0;31m \u001b[0mnumpy\u001b[0m\u001b[0;34m.\u001b[0m\u001b[0mdot\u001b[0m\u001b[0;34m(\u001b[0m\u001b[0mex2_2d_array\u001b[0m\u001b[0;34m,\u001b[0m \u001b[0mex2_2d_array\u001b[0m\u001b[0;34m)\u001b[0m\u001b[0;34m\u001b[0m\u001b[0;34m\u001b[0m\u001b[0m\n\u001b[0m",
            "\u001b[0;32m<__array_function__ internals>\u001b[0m in \u001b[0;36mdot\u001b[0;34m(*args, **kwargs)\u001b[0m\n",
            "\u001b[0;31mValueError\u001b[0m: shapes (2,3) and (2,3) not aligned: 3 (dim 1) != 2 (dim 0)"
          ]
        }
      ]
    },
    {
      "cell_type": "markdown",
      "metadata": {
        "id": "U2vEYMjkPP9B"
      },
      "source": [
        "# HW 5 เขียน function คูณ matrix\n",
        "แล้ว test กับ matrix (2,3)(3,2) (4,4)(4,1) (2,2)*(2,2)"
      ]
    },
    {
      "cell_type": "code",
      "metadata": {
        "id": "pD0juzg3PVkb"
      },
      "source": [
        "import numpy as np"
      ],
      "execution_count": 36,
      "outputs": []
    },
    {
      "cell_type": "code",
      "metadata": {
        "colab": {
          "base_uri": "https://localhost:8080/"
        },
        "id": "XEy4dnD7PbVu",
        "outputId": "f282c541-b796-4c6c-9099-144368bb3b81"
      },
      "source": [
        "# เมทริกซ์ (2,3)\n",
        "mat1 = np.array([[2,3,4],[1,3,5]])\n",
        "mat1"
      ],
      "execution_count": 37,
      "outputs": [
        {
          "output_type": "execute_result",
          "data": {
            "text/plain": [
              "array([[2, 3, 4],\n",
              "       [1, 3, 5]])"
            ]
          },
          "metadata": {
            "tags": []
          },
          "execution_count": 37
        }
      ]
    },
    {
      "cell_type": "code",
      "metadata": {
        "colab": {
          "base_uri": "https://localhost:8080/"
        },
        "id": "oc4WVxGMPnFC",
        "outputId": "d11d9915-0926-47d4-a63f-a91bc51fdf10"
      },
      "source": [
        "# เมทริกซ์(3,2)\n",
        "mat2 = np.array([[1,2],[3,4],[5,6]])\n",
        "mat2"
      ],
      "execution_count": 38,
      "outputs": [
        {
          "output_type": "execute_result",
          "data": {
            "text/plain": [
              "array([[1, 2],\n",
              "       [3, 4],\n",
              "       [5, 6]])"
            ]
          },
          "metadata": {
            "tags": []
          },
          "execution_count": 38
        }
      ]
    },
    {
      "cell_type": "code",
      "metadata": {
        "colab": {
          "base_uri": "https://localhost:8080/"
        },
        "id": "DlnAd0tCPvyd",
        "outputId": "8ac7b1bb-d0a2-4d1b-c72e-beb45674e6de"
      },
      "source": [
        "# เมทริกซ์(4,4)\n",
        "mat3 = np.array([[1,3,5,7], [2,4,6,8], [2,4,4,2], [2,1,5,3]])\n",
        "mat3"
      ],
      "execution_count": 39,
      "outputs": [
        {
          "output_type": "execute_result",
          "data": {
            "text/plain": [
              "array([[1, 3, 5, 7],\n",
              "       [2, 4, 6, 8],\n",
              "       [2, 4, 4, 2],\n",
              "       [2, 1, 5, 3]])"
            ]
          },
          "metadata": {
            "tags": []
          },
          "execution_count": 39
        }
      ]
    },
    {
      "cell_type": "code",
      "metadata": {
        "colab": {
          "base_uri": "https://localhost:8080/"
        },
        "id": "j2fKauCtP2VR",
        "outputId": "ba4895c2-864b-45a6-e7dd-1323c5942eff"
      },
      "source": [
        "# เมทริกซ์(4,1)\n",
        "mat4 = np.array([[2], [4], [6], [8]])\n",
        "mat4"
      ],
      "execution_count": 41,
      "outputs": [
        {
          "output_type": "execute_result",
          "data": {
            "text/plain": [
              "array([[2],\n",
              "       [4],\n",
              "       [6],\n",
              "       [8]])"
            ]
          },
          "metadata": {
            "tags": []
          },
          "execution_count": 41
        }
      ]
    },
    {
      "cell_type": "code",
      "metadata": {
        "colab": {
          "base_uri": "https://localhost:8080/"
        },
        "id": "cCdXTcLIQCna",
        "outputId": "49d0ca87-6e27-4d7f-de27-a22d4cbac3a1"
      },
      "source": [
        "# ดมทริกซ์(2,2)\n",
        "mat5 = np.array([[2,4], [4,2]])\n",
        "mat5"
      ],
      "execution_count": 42,
      "outputs": [
        {
          "output_type": "execute_result",
          "data": {
            "text/plain": [
              "array([[2, 4],\n",
              "       [4, 2]])"
            ]
          },
          "metadata": {
            "tags": []
          },
          "execution_count": 42
        }
      ]
    },
    {
      "cell_type": "code",
      "metadata": {
        "colab": {
          "base_uri": "https://localhost:8080/"
        },
        "id": "9-YCgjffQQPK",
        "outputId": "348bf749-333c-4fd2-8b4a-62c75bf9d651"
      },
      "source": [
        "# เมทริกซ์(2,2)\n",
        "mat6 = np.array([[6,3], [7,3]])\n",
        "mat6"
      ],
      "execution_count": 43,
      "outputs": [
        {
          "output_type": "execute_result",
          "data": {
            "text/plain": [
              "array([[6, 3],\n",
              "       [7, 3]])"
            ]
          },
          "metadata": {
            "tags": []
          },
          "execution_count": 43
        }
      ]
    },
    {
      "cell_type": "code",
      "metadata": {
        "id": "Xz67aTq8QTUs"
      },
      "source": [
        "def mul_mat(a, b) :\n",
        "  c = [[0 for row in range(len(b[0]))] for col in range(len(a))]\n",
        "  for i in range(len(a)) :\n",
        "    for j in range(len(b[0])) :\n",
        "      for k in range(len(b)) :\n",
        "        c[i][j] += a[i][k]*b[k][j]\n",
        "  r = np.matrix(c)\n",
        "  return r"
      ],
      "execution_count": 44,
      "outputs": []
    },
    {
      "cell_type": "code",
      "metadata": {
        "colab": {
          "base_uri": "https://localhost:8080/"
        },
        "id": "_Uc0yiTVQd_g",
        "outputId": "0cbec94c-2604-4e38-d5e2-242d7e833f78"
      },
      "source": [
        "mul_mat(mat1,mat2) #(2,3)*(3,2)"
      ],
      "execution_count": 45,
      "outputs": [
        {
          "output_type": "execute_result",
          "data": {
            "text/plain": [
              "matrix([[31, 40],\n",
              "        [35, 44]])"
            ]
          },
          "metadata": {
            "tags": []
          },
          "execution_count": 45
        }
      ]
    },
    {
      "cell_type": "code",
      "metadata": {
        "colab": {
          "base_uri": "https://localhost:8080/"
        },
        "id": "SRCrhdVlQoG0",
        "outputId": "f7459196-ce07-45da-f263-5280914d2a1b"
      },
      "source": [
        "mul_mat(mat3,mat4) #(4,4)*(4,1)"
      ],
      "execution_count": 46,
      "outputs": [
        {
          "output_type": "execute_result",
          "data": {
            "text/plain": [
              "matrix([[100],\n",
              "        [120],\n",
              "        [ 60],\n",
              "        [ 62]])"
            ]
          },
          "metadata": {
            "tags": []
          },
          "execution_count": 46
        }
      ]
    },
    {
      "cell_type": "code",
      "metadata": {
        "colab": {
          "base_uri": "https://localhost:8080/"
        },
        "id": "gXhIykOWQrBx",
        "outputId": "60f2b36c-a987-4eb5-9280-ccf04262b745"
      },
      "source": [
        "mul_mat(mat5,mat6) #(2,2)*(2,2)"
      ],
      "execution_count": 47,
      "outputs": [
        {
          "output_type": "execute_result",
          "data": {
            "text/plain": [
              "matrix([[40, 18],\n",
              "        [38, 18]])"
            ]
          },
          "metadata": {
            "tags": []
          },
          "execution_count": 47
        }
      ]
    },
    {
      "cell_type": "code",
      "metadata": {
        "colab": {
          "base_uri": "https://localhost:8080/"
        },
        "id": "L7mRN0PzQwsP",
        "outputId": "10f904c0-d0a0-4943-cd83-bcdf71bc60c9"
      },
      "source": [
        "np.dot(mat1,mat2)"
      ],
      "execution_count": 48,
      "outputs": [
        {
          "output_type": "execute_result",
          "data": {
            "text/plain": [
              "array([[31, 40],\n",
              "       [35, 44]])"
            ]
          },
          "metadata": {
            "tags": []
          },
          "execution_count": 48
        }
      ]
    }
  ]
}