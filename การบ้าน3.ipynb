{
  "nbformat": 4,
  "nbformat_minor": 0,
  "metadata": {
    "colab": {
      "name": "การบ้าน3",
      "provenance": [],
      "authorship_tag": "ABX9TyPnA+ievI9tH3ah8chLWxut",
      "include_colab_link": true
    },
    "kernelspec": {
      "name": "python3",
      "display_name": "Python 3"
    }
  },
  "cells": [
    {
      "cell_type": "markdown",
      "metadata": {
        "id": "view-in-github",
        "colab_type": "text"
      },
      "source": [
        "<a href=\"https://colab.research.google.com/github/suwutjaneet/Data_Viz/blob/main/%E0%B8%81%E0%B8%B2%E0%B8%A3%E0%B8%9A%E0%B9%89%E0%B8%B2%E0%B8%993.ipynb\" target=\"_parent\"><img src=\"https://colab.research.google.com/assets/colab-badge.svg\" alt=\"Open In Colab\"/></a>"
      ]
    },
    {
      "cell_type": "code",
      "metadata": {
        "colab": {
          "base_uri": "https://localhost:8080/"
        },
        "id": "k6cZeUWUQFFz",
        "outputId": "02542196-1d6b-4ca2-dfc5-cb890a4a9523"
      },
      "source": [
        "def sec(Time):\r\n",
        "  list_Time = Time.split(':') \r\n",
        "  H = (int(list_Time[0])*60*60)\r\n",
        "  M = (int(list_Time[1])*60)\r\n",
        "  S = (int(list_Time[2]))\r\n",
        "  sum = f'เวลา {Time}   = {H+M+S} วินาที'\r\n",
        "  print(sum)\r\n",
        " \r\n",
        " \r\n",
        "sec('12:30:15')\r\n",
        "sec('13:41:07')\r\n",
        "sec('12:53:15')\r\n",
        "sec('00:59:25')\r\n",
        "sec('11:11:11')\r\n",
        "sec('16:06:09')\r\n",
        "\r\n",
        "\r\n",
        "\r\n"
      ],
      "execution_count": 5,
      "outputs": [
        {
          "output_type": "stream",
          "text": [
            "เวลา 12:30:15   = 45015 วินาที\n",
            "เวลา 13:41:07   = 49267 วินาที\n",
            "เวลา 12:53:15   = 46395 วินาที\n",
            "เวลา 00:59:25   = 3565 วินาที\n",
            "เวลา 11:11:11   = 40271 วินาที\n",
            "เวลา 16:06:09   = 57969 วินาที\n"
          ],
          "name": "stdout"
        }
      ]
    },
    {
      "cell_type": "code",
      "metadata": {
        "colab": {
          "base_uri": "https://localhost:8080/"
        },
        "id": "twrfpCClStXg",
        "outputId": "e734f4cd-8404-454b-bb2c-8c1ff71d0935"
      },
      "source": [
        "\r\n",
        "for Time in ['12:30:15','13:41:07','12:53:15','00:59:25','11:11:11','16:06:09'] :\r\n",
        "    list_T = Time.split(':')\r\n",
        "    sum_sec = (int(list_T[0])*60*60)+(int(list_T[1])*60)+(int(list_T[2]))\r\n",
        "    print (f'เวลา {Time}   = {sum_sec} วินาที')\r\n",
        "\r\n",
        "sec('12:30:15')\r\n",
        "sec('13:41:07')\r\n",
        "sec('12:53:15')\r\n",
        "sec('00:59:25')\r\n",
        "sec('11:11:11')\r\n",
        "sec('16:06:09')\r\n"
      ],
      "execution_count": 13,
      "outputs": [
        {
          "output_type": "stream",
          "text": [
            "เวลา 12:30:15   = 45015 วินาที\n",
            "เวลา 13:41:07   = 49267 วินาที\n",
            "เวลา 12:53:15   = 46395 วินาที\n",
            "เวลา 00:59:25   = 3565 วินาที\n",
            "เวลา 11:11:11   = 40271 วินาที\n",
            "เวลา 16:06:09   = 57969 วินาที\n",
            "เวลา 12:30:15   = 45015 วินาที\n",
            "เวลา 13:41:07   = 49267 วินาที\n",
            "เวลา 12:53:15   = 46395 วินาที\n",
            "เวลา 00:59:25   = 3565 วินาที\n",
            "เวลา 11:11:11   = 40271 วินาที\n",
            "เวลา 16:06:09   = 57969 วินาที\n"
          ],
          "name": "stdout"
        }
      ]
    }
  ]
}