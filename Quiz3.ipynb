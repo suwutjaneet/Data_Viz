{
  "nbformat": 4,
  "nbformat_minor": 0,
  "metadata": {
    "colab": {
      "name": "Quiz3",
      "provenance": [],
      "authorship_tag": "ABX9TyO45fISrGOXouLbfraQ3yjV",
      "include_colab_link": true
    },
    "kernelspec": {
      "name": "python3",
      "display_name": "Python 3"
    }
  },
  "cells": [
    {
      "cell_type": "markdown",
      "metadata": {
        "id": "view-in-github",
        "colab_type": "text"
      },
      "source": [
        "<a href=\"https://colab.research.google.com/github/suwutjaneet/Data_Viz/blob/main/Quiz3.ipynb\" target=\"_parent\"><img src=\"https://colab.research.google.com/assets/colab-badge.svg\" alt=\"Open In Colab\"/></a>"
      ]
    },
    {
      "cell_type": "code",
      "metadata": {
        "id": "jaGvRJ6B-SEJ"
      },
      "source": [
        "import pandas as pd"
      ],
      "execution_count": 10,
      "outputs": []
    },
    {
      "cell_type": "code",
      "metadata": {
        "colab": {
          "base_uri": "https://localhost:8080/"
        },
        "id": "u9G0xg-eCr6w",
        "outputId": "6b4c93df-ab5e-461e-d031-ffda706ba758"
      },
      "source": [
        "from google.colab import drive\r\n",
        "drive.mount('/content/drive')"
      ],
      "execution_count": 11,
      "outputs": [
        {
          "output_type": "stream",
          "text": [
            "Mounted at /content/drive\n"
          ],
          "name": "stdout"
        }
      ]
    },
    {
      "cell_type": "code",
      "metadata": {
        "id": "JC1Oq9hQCw7L"
      },
      "source": [
        "import os\r\n",
        "\r\n",
        "path = '/content/drive/My Drive/Data_mining'"
      ],
      "execution_count": 12,
      "outputs": []
    },
    {
      "cell_type": "code",
      "metadata": {
        "colab": {
          "base_uri": "https://localhost:8080/"
        },
        "id": "E6ltaja2C56O",
        "outputId": "52c57549-1721-4c44-abaa-1f350a14f791"
      },
      "source": [
        "oct57 = os.path.join(path, '-.57-.58-1.xls')\r\n",
        "print(oct57)"
      ],
      "execution_count": 13,
      "outputs": [
        {
          "output_type": "stream",
          "text": [
            "/content/drive/My Drive/Data_mining/-.57-.58-1.xls\n"
          ],
          "name": "stdout"
        }
      ]
    },
    {
      "cell_type": "code",
      "metadata": {
        "colab": {
          "base_uri": "https://localhost:8080/",
          "height": 555
        },
        "id": "9V5ERAuvDbmn",
        "outputId": "af4346dc-3feb-4e2d-c9f9-3c318f2e224f"
      },
      "source": [
        "oct57 = pd.read_excel(oct57)\r\n",
        "oct57"
      ],
      "execution_count": 14,
      "outputs": [
        {
          "output_type": "execute_result",
          "data": {
            "text/html": [
              "<div>\n",
              "<style scoped>\n",
              "    .dataframe tbody tr th:only-of-type {\n",
              "        vertical-align: middle;\n",
              "    }\n",
              "\n",
              "    .dataframe tbody tr th {\n",
              "        vertical-align: top;\n",
              "    }\n",
              "\n",
              "    .dataframe thead th {\n",
              "        text-align: right;\n",
              "    }\n",
              "</style>\n",
              "<table border=\"1\" class=\"dataframe\">\n",
              "  <thead>\n",
              "    <tr style=\"text-align: right;\">\n",
              "      <th></th>\n",
              "      <th>Unnamed: 0</th>\n",
              "      <th>Unnamed: 1</th>\n",
              "      <th>Unnamed: 2</th>\n",
              "      <th>Unnamed: 3</th>\n",
              "      <th>Unnamed: 4</th>\n",
              "      <th>Unnamed: 5</th>\n",
              "      <th>Unnamed: 6</th>\n",
              "      <th>Unnamed: 7</th>\n",
              "      <th>แบบ สขร. 1</th>\n",
              "    </tr>\n",
              "  </thead>\n",
              "  <tbody>\n",
              "    <tr>\n",
              "      <th>0</th>\n",
              "      <td>สรุปผลการดำเนินการจัดจ้างในรอบเดือน ตุลาคม 2557</td>\n",
              "      <td>NaN</td>\n",
              "      <td>NaN</td>\n",
              "      <td>NaN</td>\n",
              "      <td>NaN</td>\n",
              "      <td>NaN</td>\n",
              "      <td>NaN</td>\n",
              "      <td>NaN</td>\n",
              "      <td>NaN</td>\n",
              "    </tr>\n",
              "    <tr>\n",
              "      <th>1</th>\n",
              "      <td>สำนักงานปลัดกระทรวงวิทยาศาสตร์และเทคโนโลยี</td>\n",
              "      <td>NaN</td>\n",
              "      <td>NaN</td>\n",
              "      <td>NaN</td>\n",
              "      <td>NaN</td>\n",
              "      <td>NaN</td>\n",
              "      <td>NaN</td>\n",
              "      <td>NaN</td>\n",
              "      <td>NaN</td>\n",
              "    </tr>\n",
              "    <tr>\n",
              "      <th>2</th>\n",
              "      <td>NaN</td>\n",
              "      <td>NaN</td>\n",
              "      <td>NaN</td>\n",
              "      <td>NaN</td>\n",
              "      <td>NaN</td>\n",
              "      <td>NaN</td>\n",
              "      <td>NaN</td>\n",
              "      <td>NaN</td>\n",
              "      <td>NaN</td>\n",
              "    </tr>\n",
              "    <tr>\n",
              "      <th>3</th>\n",
              "      <td>ลำดับ</td>\n",
              "      <td>งานจัดจ้าง</td>\n",
              "      <td>วงเงินงบประมาณ</td>\n",
              "      <td>วิธีจ้าง</td>\n",
              "      <td>ผู้เสนอราคาและราคาที่เสนอ</td>\n",
              "      <td>NaN</td>\n",
              "      <td>ผู้ได้รับการคัดเลือกและราคา</td>\n",
              "      <td>NaN</td>\n",
              "      <td>เหตุผลที่คัดเลือกโดยสรุป</td>\n",
              "    </tr>\n",
              "    <tr>\n",
              "      <th>4</th>\n",
              "      <td>ที่</td>\n",
              "      <td>NaN</td>\n",
              "      <td>(ราคากลาง)</td>\n",
              "      <td>NaN</td>\n",
              "      <td>NaN</td>\n",
              "      <td>NaN</td>\n",
              "      <td>NaN</td>\n",
              "      <td>NaN</td>\n",
              "      <td>NaN</td>\n",
              "    </tr>\n",
              "    <tr>\n",
              "      <th>...</th>\n",
              "      <td>...</td>\n",
              "      <td>...</td>\n",
              "      <td>...</td>\n",
              "      <td>...</td>\n",
              "      <td>...</td>\n",
              "      <td>...</td>\n",
              "      <td>...</td>\n",
              "      <td>...</td>\n",
              "      <td>...</td>\n",
              "    </tr>\n",
              "    <tr>\n",
              "      <th>99</th>\n",
              "      <td>56</td>\n",
              "      <td>จัดทำจดหมายข่าว</td>\n",
              "      <td>19260</td>\n",
              "      <td>ตกลงราคา</td>\n",
              "      <td>หจก. เอส พี ก๊อปปี้ ปริ้น</td>\n",
              "      <td>19260.0</td>\n",
              "      <td>หจก. เอส พี ก๊อปปี้ ปริ้น</td>\n",
              "      <td>19260.0</td>\n",
              "      <td>เป็นผู้รับจ้าง</td>\n",
              "    </tr>\n",
              "    <tr>\n",
              "      <th>100</th>\n",
              "      <td>57</td>\n",
              "      <td>จัดทำจดหมายข่าว</td>\n",
              "      <td>19260</td>\n",
              "      <td>ตกลงราคา</td>\n",
              "      <td>หจก. เอส พี ก๊อปปี้ ปริ้น</td>\n",
              "      <td>19260.0</td>\n",
              "      <td>หจก. เอส พี ก๊อปปี้ ปริ้น</td>\n",
              "      <td>19260.0</td>\n",
              "      <td>เป็นผู้รับจ้าง</td>\n",
              "    </tr>\n",
              "    <tr>\n",
              "      <th>101</th>\n",
              "      <td>58</td>\n",
              "      <td>จัดทำจดหมายข่าว</td>\n",
              "      <td>19260</td>\n",
              "      <td>ตกลงราคา</td>\n",
              "      <td>หจก. เอส พี ก๊อปปี้ ปริ้น</td>\n",
              "      <td>19260.0</td>\n",
              "      <td>หจก. เอส พี ก๊อปปี้ ปริ้น</td>\n",
              "      <td>19260.0</td>\n",
              "      <td>เป็นผู้รับจ้าง</td>\n",
              "    </tr>\n",
              "    <tr>\n",
              "      <th>102</th>\n",
              "      <td>59</td>\n",
              "      <td>จัดทำจดหมายข่าว</td>\n",
              "      <td>19260</td>\n",
              "      <td>ตกลงราคา</td>\n",
              "      <td>หจก. เอส พี ก๊อปปี้ ปริ้น</td>\n",
              "      <td>19260.0</td>\n",
              "      <td>หจก. เอส พี ก๊อปปี้ ปริ้น</td>\n",
              "      <td>19260.0</td>\n",
              "      <td>เป็นผู้รับจ้าง</td>\n",
              "    </tr>\n",
              "    <tr>\n",
              "      <th>103</th>\n",
              "      <td>60</td>\n",
              "      <td>NaN</td>\n",
              "      <td>NaN</td>\n",
              "      <td>NaN</td>\n",
              "      <td>NaN</td>\n",
              "      <td>NaN</td>\n",
              "      <td>NaN</td>\n",
              "      <td>NaN</td>\n",
              "      <td>เป็นผู้รับจ้าง</td>\n",
              "    </tr>\n",
              "  </tbody>\n",
              "</table>\n",
              "<p>104 rows × 9 columns</p>\n",
              "</div>"
            ],
            "text/plain": [
              "                                          Unnamed: 0  ...                แบบ สขร. 1\n",
              "0    สรุปผลการดำเนินการจัดจ้างในรอบเดือน ตุลาคม 2557  ...                       NaN\n",
              "1         สำนักงานปลัดกระทรวงวิทยาศาสตร์และเทคโนโลยี  ...                       NaN\n",
              "2                                                NaN  ...                       NaN\n",
              "3                                              ลำดับ  ...  เหตุผลที่คัดเลือกโดยสรุป\n",
              "4                                                ที่  ...                       NaN\n",
              "..                                               ...  ...                       ...\n",
              "99                                                56  ...            เป็นผู้รับจ้าง\n",
              "100                                               57  ...            เป็นผู้รับจ้าง\n",
              "101                                               58  ...            เป็นผู้รับจ้าง\n",
              "102                                               59  ...            เป็นผู้รับจ้าง\n",
              "103                                               60  ...            เป็นผู้รับจ้าง\n",
              "\n",
              "[104 rows x 9 columns]"
            ]
          },
          "metadata": {
            "tags": []
          },
          "execution_count": 14
        }
      ]
    },
    {
      "cell_type": "code",
      "metadata": {
        "id": "SseyKZHKAHck"
      },
      "source": [
        "oct57.rename(column={'Unnamed: 5':'ราคาเสนอ','Unnamed: 7':'ราคาซื้อ'})"
      ],
      "execution_count": null,
      "outputs": []
    },
    {
      "cell_type": "markdown",
      "metadata": {
        "id": "27eNQW_tEead"
      },
      "source": [
        "## ใช้ขนาดของ marker แสดงค่าของ feature"
      ]
    },
    {
      "cell_type": "code",
      "metadata": {
        "id": "cHU5g8wY-vLU"
      },
      "source": [
        "plt.scatter(df['PetalLength'],df['PetalWidth'],s=10*df['SepalWidth'],c=df2['Name'],alpha=0.5)"
      ],
      "execution_count": null,
      "outputs": []
    },
    {
      "cell_type": "code",
      "metadata": {
        "id": "novTF1ZxFZ91"
      },
      "source": [
        ""
      ],
      "execution_count": null,
      "outputs": []
    }
  ]
}