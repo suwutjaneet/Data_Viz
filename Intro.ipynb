{
  "nbformat": 4,
  "nbformat_minor": 0,
  "metadata": {
    "colab": {
      "name": "Untitled0.ipynb",
      "provenance": [],
      "authorship_tag": "ABX9TyOtxb5qt69zx1SFj6vV+bfW",
      "include_colab_link": true
    },
    "kernelspec": {
      "name": "python3",
      "display_name": "Python 3"
    }
  },
  "cells": [
    {
      "cell_type": "markdown",
      "metadata": {
        "id": "view-in-github",
        "colab_type": "text"
      },
      "source": [
        "<a href=\"https://colab.research.google.com/github/suwutjaneet/Data_Viz/blob/main/Intro.ipynb\" target=\"_parent\"><img src=\"https://colab.research.google.com/assets/colab-badge.svg\" alt=\"Open In Colab\"/></a>"
      ]
    },
    {
      "cell_type": "code",
      "metadata": {
        "id": "dEaKu0t8l7D6"
      },
      "source": [
        ""
      ],
      "execution_count": null,
      "outputs": []
    },
    {
      "cell_type": "markdown",
      "metadata": {
        "id": "TOLh6A01mQk8"
      },
      "source": [
        "นางสาวสุวรรจณี ทัพรัตน์  603021847-1\t"
      ]
    },
    {
      "cell_type": "markdown",
      "metadata": {
        "id": "K9JFE_RsmCQX"
      },
      "source": [
        ""
      ]
    }
  ]
}