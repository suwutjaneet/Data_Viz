{
  "nbformat": 4,
  "nbformat_minor": 0,
  "metadata": {
    "colab": {
      "name": "การบ้านครั้งที่ 2",
      "provenance": [],
      "authorship_tag": "ABX9TyNzBczaNPn0gPdZeRKHbdZr",
      "include_colab_link": true
    },
    "kernelspec": {
      "display_name": "Python 3",
      "name": "python3"
    }
  },
  "cells": [
    {
      "cell_type": "markdown",
      "metadata": {
        "id": "view-in-github",
        "colab_type": "text"
      },
      "source": [
        "<a href=\"https://colab.research.google.com/github/suwutjaneet/Data_Viz/blob/main/%E0%B8%81%E0%B8%B2%E0%B8%A3%E0%B8%9A%E0%B9%89%E0%B8%B2%E0%B8%99%E0%B8%84%E0%B8%A3%E0%B8%B1%E0%B9%89%E0%B8%87%E0%B8%97%E0%B8%B5%E0%B9%88_2.ipynb\" target=\"_parent\"><img src=\"https://colab.research.google.com/assets/colab-badge.svg\" alt=\"Open In Colab\"/></a>"
      ]
    },
    {
      "cell_type": "code",
      "metadata": {
        "colab": {
          "base_uri": "https://localhost:8080/"
        },
        "id": "J9APFHvcr-FA",
        "outputId": "187cf1e8-9c2e-4faa-b9f1-4fa10b4d05d2"
      },
      "source": [
        "time = '12 : 30 : 15'\r\n",
        "a = time.split( ' : ' )\r\n",
        "a\r\n",
        "second = (int(a[0])*3600)+(int(a[1])*60)+int(a[2])\r\n",
        "sec = f'{time} = {second} วินาที'\r\n",
        "print(sec)\r\n",
        "\r\n",
        "time = '13 : 41 : 07'\r\n",
        "a = time.split( ' : ' )\r\n",
        "a\r\n",
        "second = (int(a[0])*3600)+(int(a[1])*60)+int(a[2])\r\n",
        "sec = f'{time} = {second} วินาที'\r\n",
        "print(sec)\r\n",
        "\r\n",
        "time = '12 : 53 : 15'\r\n",
        "a = time.split( ' : ' )\r\n",
        "a\r\n",
        "second = (int(a[0])*3600)+(int(a[1])*60)+int(a[2])\r\n",
        "sec = f'{time} = {second} วินาที'\r\n",
        "print(sec)\r\n",
        "\r\n",
        "time = '00 : 59 : 25'\r\n",
        "a = time.split( ' : ' )\r\n",
        "a\r\n",
        "second = (int(a[0])*3600)+(int(a[1])*60)+int(a[2])\r\n",
        "sec = f'{time} = {second} วินาที'\r\n",
        "print(sec)\r\n",
        "\r\n",
        "time = '12 : 30 : 15'\r\n",
        "a = time.split( ' : ' )\r\n",
        "a\r\n",
        "second = (int(a[0])*3600)+(int(a[1])*60)+int(a[2])\r\n",
        "sec = f'{time} = {second} วินาที'\r\n",
        "print(sec)\r\n",
        "\r\n",
        "time = '11 : 11 : 11'\r\n",
        "a = time.split( ' : ' )\r\n",
        "a\r\n",
        "second = (int(a[0])*3600)+(int(a[1])*60)+int(a[2])\r\n",
        "sec = f'{time} = {second} วินาที'\r\n",
        "print(sec)\r\n",
        "\r\n",
        "time = '16 : 06 : 09'\r\n",
        "a = time.split( ' : ' )\r\n",
        "a\r\n",
        "second = (int(a[0])*3600)+(int(a[1])*60)+int(a[2])\r\n",
        "sec = f'{time} = {second} วินาที'\r\n",
        "print(sec)"
      ],
      "execution_count": 6,
      "outputs": [
        {
          "output_type": "stream",
          "text": [
            "12 : 30 : 15 = 45015 วินาที\n",
            "13 : 41 : 07 = 49267 วินาที\n",
            "12 : 53 : 15 = 46395 วินาที\n",
            "00 : 59 : 25 = 3565 วินาที\n",
            "12 : 30 : 15 = 45015 วินาที\n",
            "11 : 11 : 11 = 40271 วินาที\n",
            "16 : 06 : 09 = 57969 วินาที\n"
          ],
          "name": "stdout"
        }
      ]
    }
  ]
}