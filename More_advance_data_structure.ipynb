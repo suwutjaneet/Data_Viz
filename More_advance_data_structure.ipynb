{
  "nbformat": 4,
  "nbformat_minor": 0,
  "metadata": {
    "colab": {
      "name": "More advance data structure.ipynb",
      "provenance": [],
      "include_colab_link": true
    },
    "kernelspec": {
      "name": "python3",
      "display_name": "Python 3"
    }
  },
  "cells": [
    {
      "cell_type": "markdown",
      "metadata": {
        "id": "view-in-github",
        "colab_type": "text"
      },
      "source": [
        "<a href=\"https://colab.research.google.com/github/suwutjaneet/Data_Viz/blob/main/More_advance_data_structure.ipynb\" target=\"_parent\"><img src=\"https://colab.research.google.com/assets/colab-badge.svg\" alt=\"Open In Colab\"/></a>"
      ]
    },
    {
      "cell_type": "markdown",
      "metadata": {
        "id": "de5D45tMo-el"
      },
      "source": [
        "เรื่องที่เรียนไปแล้ว คือ list"
      ]
    },
    {
      "cell_type": "markdown",
      "metadata": {
        "id": "WkFLzufooMiS"
      },
      "source": [
        "## Dictionary\n",
        "สามารถ index ด้วยอะไรก็ได้ แต่ลำดับจะหายไป"
      ]
    },
    {
      "cell_type": "code",
      "metadata": {
        "id": "qx34mJiDnoCj"
      },
      "source": [
        "ex_dict = {'a':10,'1':1,'stat':5} #curly brackets ในการบอกว่ามันเป็น dict"
      ],
      "execution_count": null,
      "outputs": []
    },
    {
      "cell_type": "code",
      "metadata": {
        "colab": {
          "base_uri": "https://localhost:8080/"
        },
        "id": "VhRtVg5HoK1U",
        "outputId": "feddba57-8bbd-4cd7-f644-a43175bc16f5"
      },
      "source": [
        "ex_dict['stat']"
      ],
      "execution_count": null,
      "outputs": [
        {
          "output_type": "execute_result",
          "data": {
            "text/plain": [
              "5"
            ]
          },
          "metadata": {
            "tags": []
          },
          "execution_count": 2
        }
      ]
    },
    {
      "cell_type": "code",
      "metadata": {
        "id": "blryfJvupjxX"
      },
      "source": [
        "ex2_dict= {1:'one',2:'two',3:'three'}"
      ],
      "execution_count": null,
      "outputs": []
    },
    {
      "cell_type": "code",
      "metadata": {
        "colab": {
          "base_uri": "https://localhost:8080/",
          "height": 37
        },
        "id": "oNKSWW25py_T",
        "outputId": "96831810-443a-42da-c56d-d44d4e17c63f"
      },
      "source": [
        "ex2_dict[2]"
      ],
      "execution_count": null,
      "outputs": [
        {
          "output_type": "execute_result",
          "data": {
            "application/vnd.google.colaboratory.intrinsic+json": {
              "type": "string"
            },
            "text/plain": [
              "'two'"
            ]
          },
          "metadata": {
            "tags": []
          },
          "execution_count": 4
        }
      ]
    },
    {
      "cell_type": "markdown",
      "metadata": {
        "id": "6gabCQ6lqcN_"
      },
      "source": [
        "### การเพิ่มสมาชิกใน dict"
      ]
    },
    {
      "cell_type": "code",
      "metadata": {
        "id": "5i-ywSu6qfaY"
      },
      "source": [
        "ex2_dict[0] = 'zero'"
      ],
      "execution_count": null,
      "outputs": []
    },
    {
      "cell_type": "code",
      "metadata": {
        "colab": {
          "base_uri": "https://localhost:8080/"
        },
        "id": "URRhQi3HqoKV",
        "outputId": "e8793177-1b20-4d7d-c143-827f5ded7295"
      },
      "source": [
        "ex2_dict"
      ],
      "execution_count": null,
      "outputs": [
        {
          "output_type": "execute_result",
          "data": {
            "text/plain": [
              "{0: 'zero', 1: 'one', 2: 'two', 3: 'three'}"
            ]
          },
          "metadata": {
            "tags": []
          },
          "execution_count": 6
        }
      ]
    },
    {
      "cell_type": "markdown",
      "metadata": {
        "id": "0ofuZbVpqvx0"
      },
      "source": [
        "### คำสั่งใน dict"
      ]
    },
    {
      "cell_type": "code",
      "metadata": {
        "colab": {
          "base_uri": "https://localhost:8080/"
        },
        "id": "Xgal1DDjq7g-",
        "outputId": "a0b09e2d-c76c-4cd1-ee8f-57f4e57b913c"
      },
      "source": [
        "ex2_dict.keys() #เป็นคำสั่งบอกว่าใน dict มีตัวอะไรบ้าง"
      ],
      "execution_count": null,
      "outputs": [
        {
          "output_type": "execute_result",
          "data": {
            "text/plain": [
              "dict_keys([1, 2, 3, 0])"
            ]
          },
          "metadata": {
            "tags": []
          },
          "execution_count": 8
        }
      ]
    },
    {
      "cell_type": "code",
      "metadata": {
        "colab": {
          "base_uri": "https://localhost:8080/"
        },
        "id": "JS-544-DrKON",
        "outputId": "70a5bdbc-8e7d-485d-84f4-e30260de37a9"
      },
      "source": [
        "for index in ex2_dict.keys():\n",
        "  print(index)"
      ],
      "execution_count": null,
      "outputs": [
        {
          "output_type": "stream",
          "text": [
            "1\n",
            "2\n",
            "3\n",
            "0\n"
          ],
          "name": "stdout"
        }
      ]
    },
    {
      "cell_type": "code",
      "metadata": {
        "colab": {
          "base_uri": "https://localhost:8080/"
        },
        "id": "nURKIe1DrjkT",
        "outputId": "cccbc731-f730-401e-abb3-e871b395bde5"
      },
      "source": [
        "ex2_dict.values() #เป็นคำสั่งเอาไว้ print ค่าที่เป็นค่าของมันเอง"
      ],
      "execution_count": null,
      "outputs": [
        {
          "output_type": "execute_result",
          "data": {
            "text/plain": [
              "dict_values(['one', 'two', 'three', 'zero'])"
            ]
          },
          "metadata": {
            "tags": []
          },
          "execution_count": 10
        }
      ]
    },
    {
      "cell_type": "markdown",
      "metadata": {
        "id": "oxH_lagVsq2k"
      },
      "source": [
        "dict เอาไปใช้ร่วมกับ Dataframe ของ pandas"
      ]
    },
    {
      "cell_type": "markdown",
      "metadata": {
        "id": "IK75cOXstFju"
      },
      "source": [
        "# Numpy Array (array n มิติ)"
      ]
    },
    {
      "cell_type": "markdown",
      "metadata": {
        "id": "Yzfksml1t7Cx"
      },
      "source": [
        "numpy คือ package ที่ทำงานเกี่ยวกับ array ของตัวเลข (ที่มีคนเขียนขึ้นมาและนิยมใช้)\n",
        "\n",
        "numpy -> number python"
      ]
    },
    {
      "cell_type": "code",
      "metadata": {
        "id": "odzkeozIt0WC"
      },
      "source": [
        "import numpy #วิธีเรียกใช้งาน package "
      ],
      "execution_count": null,
      "outputs": []
    },
    {
      "cell_type": "markdown",
      "metadata": {
        "id": "2IeVg6Cpu6fy"
      },
      "source": [
        "## สร้าง numpy array"
      ]
    },
    {
      "cell_type": "code",
      "metadata": {
        "colab": {
          "base_uri": "https://localhost:8080/"
        },
        "id": "vVhPvfD2uc68",
        "outputId": "3ca2fb97-997f-4cef-9dfd-9626750702dd"
      },
      "source": [
        "ex_2d_array = numpy.array([[5.2,3.0,4.5],[9.1,0.1,0.3]])\n",
        "print(ex_2d_array)"
      ],
      "execution_count": null,
      "outputs": [
        {
          "output_type": "stream",
          "text": [
            "[[5.2 3.  4.5]\n",
            " [9.1 0.1 0.3]]\n"
          ],
          "name": "stdout"
        }
      ]
    },
    {
      "cell_type": "markdown",
      "metadata": {
        "id": "bx2Lgb5Du--0"
      },
      "source": [
        "### การชี้ค่าใน numpy array"
      ]
    },
    {
      "cell_type": "code",
      "metadata": {
        "colab": {
          "base_uri": "https://localhost:8080/"
        },
        "id": "2RoHZzzPvE-i",
        "outputId": "c7a6ebf8-cc4c-49a8-d03f-198c44a195c2"
      },
      "source": [
        "ex_2d_array[1,2]"
      ],
      "execution_count": null,
      "outputs": [
        {
          "output_type": "execute_result",
          "data": {
            "text/plain": [
              "0.3"
            ]
          },
          "metadata": {
            "tags": []
          },
          "execution_count": 13
        }
      ]
    },
    {
      "cell_type": "code",
      "metadata": {
        "colab": {
          "base_uri": "https://localhost:8080/"
        },
        "id": "Ep_hArypvpVa",
        "outputId": "3c477967-478a-47ac-8078-53f1e8206ee4"
      },
      "source": [
        "list_x = [[5.2,3.0,4.5],[9.1,0.1,0.3]] #การชี้ list\n",
        "\n",
        "print(len(list_x))\n",
        "\n",
        "print(list_x[1])\n",
        "\n",
        "print(list_x[1][2])"
      ],
      "execution_count": null,
      "outputs": [
        {
          "output_type": "stream",
          "text": [
            "2\n",
            "[9.1, 0.1, 0.3]\n",
            "0.3\n"
          ],
          "name": "stdout"
        }
      ]
    },
    {
      "cell_type": "markdown",
      "metadata": {
        "id": "OxVrn-TQyBeK"
      },
      "source": [
        "### Operations"
      ]
    },
    {
      "cell_type": "code",
      "metadata": {
        "colab": {
          "base_uri": "https://localhost:8080/"
        },
        "id": "aY6jysDiyFPW",
        "outputId": "d3be9f11-10d9-463f-db9d-91dcf00af163"
      },
      "source": [
        "ex2_2d_array = numpy.array([[1,0,0],[0,0,1]])\n",
        "print(ex2_2d_array)\n",
        "print(ex_2d_array)"
      ],
      "execution_count": null,
      "outputs": [
        {
          "output_type": "stream",
          "text": [
            "[[1 0 0]\n",
            " [0 0 1]]\n",
            "[[5.2 3.  4.5]\n",
            " [9.1 0.1 0.3]]\n"
          ],
          "name": "stdout"
        }
      ]
    },
    {
      "cell_type": "code",
      "metadata": {
        "colab": {
          "base_uri": "https://localhost:8080/"
        },
        "id": "0Uo4CPcyyf9-",
        "outputId": "9f99be4a-a226-42b7-cbac-ff55dd85e44b"
      },
      "source": [
        "ex_2d_array.shape #เป็นคำสั่งตรวจสอบขนาดของ matrix"
      ],
      "execution_count": null,
      "outputs": [
        {
          "output_type": "execute_result",
          "data": {
            "text/plain": [
              "(2, 3)"
            ]
          },
          "metadata": {
            "tags": []
          },
          "execution_count": 18
        }
      ]
    },
    {
      "cell_type": "code",
      "metadata": {
        "colab": {
          "base_uri": "https://localhost:8080/"
        },
        "id": "KgtGdfTByset",
        "outputId": "48564b25-bfc9-4c37-d789-9d4cb3115b87"
      },
      "source": [
        "ex_2d_array + ex2_2d_array"
      ],
      "execution_count": null,
      "outputs": [
        {
          "output_type": "execute_result",
          "data": {
            "text/plain": [
              "array([[6.2, 3. , 4.5],\n",
              "       [9.1, 0.1, 1.3]])"
            ]
          },
          "metadata": {
            "tags": []
          },
          "execution_count": 19
        }
      ]
    },
    {
      "cell_type": "code",
      "metadata": {
        "colab": {
          "base_uri": "https://localhost:8080/"
        },
        "id": "6kLafJZ7zWwN",
        "outputId": "32bf452c-2c33-4d33-b8c5-e4eea11c59c3"
      },
      "source": [
        "list_x = [[5.2,3.0,4.5],[9.1,0.1,0.3]]\n",
        "list_x2 = [[1,0,0],[0,0,1]]\n",
        "\n",
        "list_x + list_x2"
      ],
      "execution_count": null,
      "outputs": [
        {
          "output_type": "execute_result",
          "data": {
            "text/plain": [
              "[[5.2, 3.0, 4.5], [9.1, 0.1, 0.3], [1, 0, 0], [0, 0, 1]]"
            ]
          },
          "metadata": {
            "tags": []
          },
          "execution_count": 20
        }
      ]
    },
    {
      "cell_type": "code",
      "metadata": {
        "colab": {
          "base_uri": "https://localhost:8080/"
        },
        "id": "Ev7fjpHO0CSD",
        "outputId": "fa7557d4-718e-4147-9c8f-1a1f86b3406a"
      },
      "source": [
        "ex_2d_array * ex2_2d_array #การคูณแบบ array คือ การเอาตำแหน่งเดียวกันมาคูณกัน (เอามาใช้ในการคูณ matix ไม่ได้)"
      ],
      "execution_count": null,
      "outputs": [
        {
          "output_type": "execute_result",
          "data": {
            "text/plain": [
              "array([[5.2, 0. , 0. ],\n",
              "       [0. , 0. , 0.3]])"
            ]
          },
          "metadata": {
            "tags": []
          },
          "execution_count": 21
        }
      ]
    },
    {
      "cell_type": "markdown",
      "metadata": {
        "id": "8UQE_h3W02eD"
      },
      "source": [
        "matix multiplication (dot product)"
      ]
    },
    {
      "cell_type": "code",
      "metadata": {
        "colab": {
          "base_uri": "https://localhost:8080/",
          "height": 232
        },
        "id": "khPWyJwx1Q8m",
        "outputId": "d4310c27-6d27-414c-a642-d37fd7b0fea7"
      },
      "source": [
        "numpy.dot(ex_2d_array,ex2_2d_array) #ที่ขึ้น error เพราะว่าการคูณ matix มีเงื่อนไข"
      ],
      "execution_count": null,
      "outputs": [
        {
          "output_type": "error",
          "ename": "ValueError",
          "evalue": "ignored",
          "traceback": [
            "\u001b[0;31m---------------------------------------------------------------------------\u001b[0m",
            "\u001b[0;31mValueError\u001b[0m                                Traceback (most recent call last)",
            "\u001b[0;32m<ipython-input-22-d923e9f0df4f>\u001b[0m in \u001b[0;36m<module>\u001b[0;34m()\u001b[0m\n\u001b[0;32m----> 1\u001b[0;31m \u001b[0mnumpy\u001b[0m\u001b[0;34m.\u001b[0m\u001b[0mdot\u001b[0m\u001b[0;34m(\u001b[0m\u001b[0mex_2d_array\u001b[0m\u001b[0;34m,\u001b[0m\u001b[0mex2_2d_array\u001b[0m\u001b[0;34m)\u001b[0m\u001b[0;34m\u001b[0m\u001b[0;34m\u001b[0m\u001b[0m\n\u001b[0m",
            "\u001b[0;32m<__array_function__ internals>\u001b[0m in \u001b[0;36mdot\u001b[0;34m(*args, **kwargs)\u001b[0m\n",
            "\u001b[0;31mValueError\u001b[0m: shapes (2,3) and (2,3) not aligned: 3 (dim 1) != 2 (dim 0)"
          ]
        }
      ]
    },
    {
      "cell_type": "code",
      "metadata": {
        "colab": {
          "base_uri": "https://localhost:8080/"
        },
        "id": "krB7FSIc1669",
        "outputId": "32752fc5-5116-4efd-d9ed-5386db2fa44c"
      },
      "source": [
        "print(ex_2d_array)\n",
        "print(ex_2d_array.T) #คำสั่ง .T คือ คำสั่ง transpost"
      ],
      "execution_count": null,
      "outputs": [
        {
          "output_type": "stream",
          "text": [
            "[[5.2 3.  4.5]\n",
            " [9.1 0.1 0.3]]\n",
            "[[5.2 9.1]\n",
            " [3.  0.1]\n",
            " [4.5 0.3]]\n"
          ],
          "name": "stdout"
        }
      ]
    },
    {
      "cell_type": "code",
      "metadata": {
        "colab": {
          "base_uri": "https://localhost:8080/"
        },
        "id": "rruvjbDk2O_D",
        "outputId": "1772da9f-a3be-43e9-c363-9f263025dfaf"
      },
      "source": [
        "dot_mat = numpy.dot(ex_2d_array,ex2_2d_array.T)\n",
        "print(dot_mat)"
      ],
      "execution_count": null,
      "outputs": [
        {
          "output_type": "stream",
          "text": [
            "[[5.2 4.5]\n",
            " [9.1 0.3]]\n"
          ],
          "name": "stdout"
        }
      ]
    },
    {
      "cell_type": "code",
      "metadata": {
        "colab": {
          "base_uri": "https://localhost:8080/"
        },
        "id": "uMjqOeYh264Z",
        "outputId": "9a43461b-c82f-44e5-ca14-b235e415369c"
      },
      "source": [
        "numpy.linalg.det(dot_mat)"
      ],
      "execution_count": null,
      "outputs": [
        {
          "output_type": "execute_result",
          "data": {
            "text/plain": [
              "-39.389999999999986"
            ]
          },
          "metadata": {
            "tags": []
          },
          "execution_count": 27
        }
      ]
    },
    {
      "cell_type": "markdown",
      "metadata": {
        "id": "9q1Eabuv3xCL"
      },
      "source": [
        "ถ้าอยากหาคำสั่งเอาไว้ใช้ให้ search google แล้วเปิดเว็บ stackoverflow หรือ เว็บของ package สำหรับ operations อื่นๆ"
      ]
    },
    {
      "cell_type": "markdown",
      "metadata": {
        "id": "s-k4vjim4Kwa"
      },
      "source": [
        "### matrix slicing"
      ]
    },
    {
      "cell_type": "code",
      "metadata": {
        "colab": {
          "base_uri": "https://localhost:8080/"
        },
        "id": "xCjD2sYv5gHg",
        "outputId": "57fdf04e-fdd6-464a-f638-0fabdd13edc3"
      },
      "source": [
        "print(ex_2d_array)\n",
        "\n"
      ],
      "execution_count": null,
      "outputs": [
        {
          "output_type": "stream",
          "text": [
            "[[5.2 3.  4.5]\n",
            " [9.1 0.1 0.3]]\n"
          ],
          "name": "stdout"
        }
      ]
    },
    {
      "cell_type": "code",
      "metadata": {
        "colab": {
          "base_uri": "https://localhost:8080/"
        },
        "id": "w_kS2QEn5mI3",
        "outputId": "d1781b8e-36ef-4e9a-e2d3-66a264762e32"
      },
      "source": [
        "ex_2d_array[1,1:]"
      ],
      "execution_count": null,
      "outputs": [
        {
          "output_type": "execute_result",
          "data": {
            "text/plain": [
              "array([0.1, 0.3])"
            ]
          },
          "metadata": {
            "tags": []
          },
          "execution_count": 31
        }
      ]
    },
    {
      "cell_type": "code",
      "metadata": {
        "colab": {
          "base_uri": "https://localhost:8080/"
        },
        "id": "jXMkXrsX55MV",
        "outputId": "92d94acb-7b07-4e32-d140-676e1d595708"
      },
      "source": [
        "ex_2d_array[:,:2]"
      ],
      "execution_count": null,
      "outputs": [
        {
          "output_type": "execute_result",
          "data": {
            "text/plain": [
              "array([[5.2, 3. ],\n",
              "       [9.1, 0.1]])"
            ]
          },
          "metadata": {
            "tags": []
          },
          "execution_count": 32
        }
      ]
    },
    {
      "cell_type": "markdown",
      "metadata": {
        "id": "6CDmmZsW4ue4"
      },
      "source": [
        "### HW 5 เขียน function คูณ matrix แล้ว test กับ matrix ขนาด\n",
        "\n",
        "(2,3)*(3,2)\n",
        "\n",
        "(4,4)*(4,1)\n",
        "\n",
        "(2,2)*(2,2)\n",
        " "
      ]
    },
    {
      "cell_type": "code",
      "metadata": {
        "id": "LOcpIggA3R3p"
      },
      "source": [
        "import numpy as np"
      ],
      "execution_count": null,
      "outputs": []
    },
    {
      "cell_type": "code",
      "metadata": {
        "id": "Ntsz2XYhny5r"
      },
      "source": [
        "A = np.array([[10,9,8],[7,6,5]]) #mattrix 2*3\n",
        "B = np.array([[10,9],[8,7],[6,5]]) #mattrix 3*2\n",
        "C = np.array([[20,19,18,17],[16,15,14,13],[12,11,10,9],[8,7,6,5]]) #mattrix 4*4\n",
        "D = np.array([[7.2],[3.5],[8.4],[1.6]]) #mattrix 4*1\n",
        "E = np.array([[2.9,6.3],[1.8,5.5]]) #mattrix 2*2\n",
        "F = np.array([[11.4,2.0],[9.0,12.7]]) #mattrix 2*2"
      ],
      "execution_count": null,
      "outputs": []
    },
    {
      "cell_type": "code",
      "metadata": {
        "id": "nB6qbQEEqzUC",
        "colab": {
          "base_uri": "https://localhost:8080/"
        },
        "outputId": "5cec2497-ae80-4ce0-ecf6-fb909dc3ba8f"
      },
      "source": [
        "print(f'A = {A}\\n\\n\\\n",
        "B = {B}\\n\\n\\\n",
        "C = {C}\\n\\n\\\n",
        "D = {D}\\n\\n\\\n",
        "E = {E}\\n\\n\\\n",
        "F = {F}\\n')"
      ],
      "execution_count": null,
      "outputs": [
        {
          "output_type": "stream",
          "text": [
            "A = [[10  9  8]\n",
            " [ 7  6  5]]\n",
            "\n",
            "B = [[10  9]\n",
            " [ 8  7]\n",
            " [ 6  5]]\n",
            "\n",
            "C = [[20 19 18 17]\n",
            " [16 15 14 13]\n",
            " [12 11 10  9]\n",
            " [ 8  7  6  5]]\n",
            "\n",
            "D = [[7.2]\n",
            " [3.5]\n",
            " [8.4]\n",
            " [1.6]]\n",
            "\n",
            "E = [[2.9 6.3]\n",
            " [1.8 5.5]]\n",
            "\n",
            "F = [[11.4  2. ]\n",
            " [ 9.  12.7]]\n",
            "\n"
          ],
          "name": "stdout"
        }
      ]
    },
    {
      "cell_type": "code",
      "metadata": {
        "id": "iki80JhorCAu"
      },
      "source": [
        "def matrixmult (A, B):\n",
        "    Y = [[0 for row in range(len(B[0]))] for col in range(len(A))]\n",
        "    for i in range(len(A)):\n",
        "        for j in range(len(B[0])):\n",
        "            for k in range(len(B)):\n",
        "                Y[i][j] += A[i][k]*B[k][j]\n",
        "    X = np.matrix(Y)\n",
        "    return X"
      ],
      "execution_count": null,
      "outputs": []
    },
    {
      "cell_type": "markdown",
      "metadata": {
        "id": "X__jJJXZsBSJ"
      },
      "source": [
        "## ข้อ 1"
      ]
    },
    {
      "cell_type": "code",
      "metadata": {
        "id": "lAwaJfBMsEnf",
        "colab": {
          "base_uri": "https://localhost:8080/"
        },
        "outputId": "cce5798b-10de-4b34-fe30-b08daaded975"
      },
      "source": [
        "matrixmult(A,B)"
      ],
      "execution_count": null,
      "outputs": [
        {
          "output_type": "execute_result",
          "data": {
            "text/plain": [
              "matrix([[220, 193],\n",
              "        [148, 130]])"
            ]
          },
          "metadata": {
            "tags": []
          },
          "execution_count": 7
        }
      ]
    },
    {
      "cell_type": "markdown",
      "metadata": {
        "id": "meSXQqJBsD-3"
      },
      "source": [
        "## ข้อ 2"
      ]
    },
    {
      "cell_type": "code",
      "metadata": {
        "id": "DmrrjIxbsPvA",
        "colab": {
          "base_uri": "https://localhost:8080/"
        },
        "outputId": "afb91bde-19ff-4059-c9b8-bf31ca3e8861"
      },
      "source": [
        "matrixmult(C,D)"
      ],
      "execution_count": null,
      "outputs": [
        {
          "output_type": "execute_result",
          "data": {
            "text/plain": [
              "matrix([[388.9],\n",
              "        [306.1],\n",
              "        [223.3],\n",
              "        [140.5]])"
            ]
          },
          "metadata": {
            "tags": []
          },
          "execution_count": 8
        }
      ]
    },
    {
      "cell_type": "markdown",
      "metadata": {
        "id": "Iq0peanYsZji"
      },
      "source": [
        "## ข้อ 3"
      ]
    },
    {
      "cell_type": "code",
      "metadata": {
        "id": "LmFqTOoOsaBq",
        "colab": {
          "base_uri": "https://localhost:8080/"
        },
        "outputId": "1789b79d-5349-44f0-a123-2daf05be763e"
      },
      "source": [
        "matrixmult(E,F)"
      ],
      "execution_count": null,
      "outputs": [
        {
          "output_type": "execute_result",
          "data": {
            "text/plain": [
              "matrix([[89.76, 85.81],\n",
              "        [70.02, 73.45]])"
            ]
          },
          "metadata": {
            "tags": []
          },
          "execution_count": 9
        }
      ]
    },
    {
      "cell_type": "markdown",
      "metadata": {
        "id": "OZyovDTt5LYy"
      },
      "source": [
        "## zeros, ones, random"
      ]
    },
    {
      "cell_type": "code",
      "metadata": {
        "id": "sSdHrJK-TE35"
      },
      "source": [
        "import numpy as np #import numpy แล้วตั้งชื่อเป็น np << เวลาจะเรียกใช้ฟังก์ชันก็ใส่ np ไป"
      ],
      "execution_count": null,
      "outputs": []
    },
    {
      "cell_type": "code",
      "metadata": {
        "id": "FTrCIY3sWF7S",
        "colab": {
          "base_uri": "https://localhost:8080/"
        },
        "outputId": "6f693acb-a108-40f5-e6c3-c5eee4fcbbea"
      },
      "source": [
        "np.zeros(2)"
      ],
      "execution_count": null,
      "outputs": [
        {
          "output_type": "execute_result",
          "data": {
            "text/plain": [
              "array([0., 0.])"
            ]
          },
          "metadata": {
            "tags": []
          },
          "execution_count": 3
        }
      ]
    },
    {
      "cell_type": "code",
      "metadata": {
        "id": "TR3m5xF5WjNY",
        "colab": {
          "base_uri": "https://localhost:8080/"
        },
        "outputId": "63dd8272-7d14-48dc-9f7d-859301db3324"
      },
      "source": [
        "np.zeros((2,3))"
      ],
      "execution_count": null,
      "outputs": [
        {
          "output_type": "execute_result",
          "data": {
            "text/plain": [
              "array([[0., 0., 0.],\n",
              "       [0., 0., 0.]])"
            ]
          },
          "metadata": {
            "tags": []
          },
          "execution_count": 4
        }
      ]
    },
    {
      "cell_type": "markdown",
      "metadata": {
        "id": "LVfc8wBJXXsi"
      },
      "source": [
        "### ones"
      ]
    },
    {
      "cell_type": "code",
      "metadata": {
        "id": "W_yBZ6YJW98L",
        "colab": {
          "base_uri": "https://localhost:8080/"
        },
        "outputId": "2197a69a-edc1-4cd7-b2d0-5fd453509d08"
      },
      "source": [
        "np.ones((2,3))"
      ],
      "execution_count": null,
      "outputs": [
        {
          "output_type": "execute_result",
          "data": {
            "text/plain": [
              "array([[1., 1., 1.],\n",
              "       [1., 1., 1.]])"
            ]
          },
          "metadata": {
            "tags": []
          },
          "execution_count": 6
        }
      ]
    },
    {
      "cell_type": "markdown",
      "metadata": {
        "id": "ykcHSDX6X714"
      },
      "source": [
        "## เพิ่ม Matrix Operation (scalar multiplication) #scalar คือ ค่าคงที่1ค่าที่เป็นเลขตัวเดียว"
      ]
    },
    {
      "cell_type": "code",
      "metadata": {
        "id": "yHiLyMJ3YdMN",
        "colab": {
          "base_uri": "https://localhost:8080/"
        },
        "outputId": "a153cc71-305b-4065-b156-a52b1c5810f4"
      },
      "source": [
        "M_one = np.ones((2,3))\n",
        "\n",
        "2*M_one"
      ],
      "execution_count": null,
      "outputs": [
        {
          "output_type": "execute_result",
          "data": {
            "text/plain": [
              "array([[2., 2., 2.],\n",
              "       [2., 2., 2.]])"
            ]
          },
          "metadata": {
            "tags": []
          },
          "execution_count": 7
        }
      ]
    },
    {
      "cell_type": "markdown",
      "metadata": {
        "id": "MT4pdhM4ZFGS"
      },
      "source": [
        "## random"
      ]
    },
    {
      "cell_type": "code",
      "metadata": {
        "id": "Rq-Re_VQb8fK",
        "colab": {
          "base_uri": "https://localhost:8080/"
        },
        "outputId": "94c60502-16ae-44cc-b31c-46e06bbd8b8e"
      },
      "source": [
        "np.random.rand(3,2) #uniform random(0,1) คือ ค่า0-1ทุกตัวมีโอกาสโดนสุ่มมาเท่าๆกัน"
      ],
      "execution_count": null,
      "outputs": [
        {
          "output_type": "execute_result",
          "data": {
            "text/plain": [
              "array([[0.59440087, 0.24261483],\n",
              "       [0.08420672, 0.28121186],\n",
              "       [0.3491092 , 0.53099223]])"
            ]
          },
          "metadata": {
            "tags": []
          },
          "execution_count": 8
        }
      ]
    },
    {
      "cell_type": "code",
      "metadata": {
        "id": "ga4ediu1cdyj",
        "colab": {
          "base_uri": "https://localhost:8080/"
        },
        "outputId": "a89e7c75-2c82-4c82-f70b-0380bc0522a5"
      },
      "source": [
        "np.random.randn(3,2) #sample  from normal distibution"
      ],
      "execution_count": null,
      "outputs": [
        {
          "output_type": "execute_result",
          "data": {
            "text/plain": [
              "array([[ 0.62318   , -1.26915805],\n",
              "       [-0.07972369, -1.20369919],\n",
              "       [-1.11005783, -0.42923046]])"
            ]
          },
          "metadata": {
            "tags": []
          },
          "execution_count": 9
        }
      ]
    },
    {
      "cell_type": "code",
      "metadata": {
        "id": "YPe3fobKdRhl",
        "colab": {
          "base_uri": "https://localhost:8080/",
          "height": 37
        },
        "outputId": "cc1c425e-15bd-4f8f-eddd-3a84268b90b9"
      },
      "source": [
        "np.random.choice([1,2,3,'a','b','c']) #สุ่มค่าใน matrix ที่เราสร้างขึ้นมา 1 ตัว"
      ],
      "execution_count": null,
      "outputs": [
        {
          "output_type": "execute_result",
          "data": {
            "application/vnd.google.colaboratory.intrinsic+json": {
              "type": "string"
            },
            "text/plain": [
              "'a'"
            ]
          },
          "metadata": {
            "tags": []
          },
          "execution_count": 10
        }
      ]
    },
    {
      "cell_type": "code",
      "metadata": {
        "id": "1X_20o8DdsTn",
        "colab": {
          "base_uri": "https://localhost:8080/"
        },
        "outputId": "0ade1018-0b99-448f-e277-45828cd4130d"
      },
      "source": [
        "np.random.choice([1,2,3,28,11,100],size = 2) "
      ],
      "execution_count": null,
      "outputs": [
        {
          "output_type": "execute_result",
          "data": {
            "text/plain": [
              "array([2, 3])"
            ]
          },
          "metadata": {
            "tags": []
          },
          "execution_count": 12
        }
      ]
    },
    {
      "cell_type": "code",
      "metadata": {
        "id": "xd66Otesd-ET",
        "colab": {
          "base_uri": "https://localhost:8080/"
        },
        "outputId": "cac5c714-1b3d-4032-cebd-4deb845d9be4"
      },
      "source": [
        "np.random.choice([1,2,3,28,11,100],size = (2,3))"
      ],
      "execution_count": null,
      "outputs": [
        {
          "output_type": "execute_result",
          "data": {
            "text/plain": [
              "array([[11,  3,  3],\n",
              "       [28, 28,  3]])"
            ]
          },
          "metadata": {
            "tags": []
          },
          "execution_count": 14
        }
      ]
    },
    {
      "cell_type": "code",
      "metadata": {
        "id": "WnmGQO_gfny2",
        "colab": {
          "base_uri": "https://localhost:8080/"
        },
        "outputId": "4aeac4df-55f7-480a-ca42-8fe7f6cc51f7"
      },
      "source": [
        "np.random.choice([1,2,3,28,11,100],size = (2,3),replace=False)"
      ],
      "execution_count": null,
      "outputs": [
        {
          "output_type": "execute_result",
          "data": {
            "text/plain": [
              "array([[  3,  11,   1],\n",
              "       [  2, 100,  28]])"
            ]
          },
          "metadata": {
            "tags": []
          },
          "execution_count": 15
        }
      ]
    },
    {
      "cell_type": "code",
      "metadata": {
        "id": "W59uBLq0f53A",
        "colab": {
          "base_uri": "https://localhost:8080/"
        },
        "outputId": "27c328b1-b2f0-40e6-d994-4603b20d2f5e"
      },
      "source": [
        "np.random.choice(['A','B','C','D','F'],size=35, p=[0.1,0.2,0.4,0.29,0.01])"
      ],
      "execution_count": null,
      "outputs": [
        {
          "output_type": "execute_result",
          "data": {
            "text/plain": [
              "array(['C', 'C', 'D', 'C', 'C', 'C', 'C', 'C', 'C', 'C', 'F', 'D', 'D',\n",
              "       'C', 'C', 'D', 'C', 'C', 'D', 'C', 'B', 'D', 'D', 'D', 'A', 'D',\n",
              "       'D', 'B', 'C', 'D', 'C', 'C', 'F', 'C', 'D'], dtype='<U1')"
            ]
          },
          "metadata": {
            "tags": []
          },
          "execution_count": 16
        }
      ]
    },
    {
      "cell_type": "markdown",
      "metadata": {
        "id": "kVXU5Djpit0S"
      },
      "source": [
        "## เฉลย HW 5 (Matrix Multiplication)"
      ]
    },
    {
      "cell_type": "code",
      "metadata": {
        "id": "AUSD_VMvhRxy"
      },
      "source": [
        "def mat_mul(A,B): # A เป็น matrix ตัวหน้า B เป็น matrix ตัวหลัง\n",
        "    C = np.zeros((A.shape[0],B.shape[1])) # เตรียมขนาดของ matrix\n",
        "    for r_a in range(A.shape[0]): # ไล่ไปตามแถวของตัวข้างหน้า\n",
        "      for c_b in range(B.shape[1]): # ไล่ไปตามหลักของตัวข้างหลัง\n",
        "        for every_element in range(A.shape[1]):\n",
        "          C[r_a,c_b] = C[r_a,c_b] + A[r_a,every_element] * B[every_element,c_b]\n",
        "    return C"
      ],
      "execution_count": null,
      "outputs": []
    },
    {
      "cell_type": "code",
      "metadata": {
        "id": "iMnR3GgiiPPn"
      },
      "source": [
        "mat1 = np.array([[1,2,3],[4,5,6]])\n",
        "mat2 = np.array([[7,8],[9,10],[11,12]])"
      ],
      "execution_count": null,
      "outputs": []
    },
    {
      "cell_type": "code",
      "metadata": {
        "id": "3CUU-rXCj3uN",
        "colab": {
          "base_uri": "https://localhost:8080/"
        },
        "outputId": "dce18ea7-c8b2-4a98-ef1b-c7f3213eef79"
      },
      "source": [
        "mat_mul(mat1,mat2)"
      ],
      "execution_count": null,
      "outputs": [
        {
          "output_type": "execute_result",
          "data": {
            "text/plain": [
              "array([[ 58.,  64.],\n",
              "       [139., 154.]])"
            ]
          },
          "metadata": {
            "tags": []
          },
          "execution_count": 22
        }
      ]
    }
  ]
}